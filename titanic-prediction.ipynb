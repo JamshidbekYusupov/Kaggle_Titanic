{
 "cells": [
  {
   "cell_type": "code",
   "execution_count": 1,
   "id": "c9cfc67a",
   "metadata": {
    "execution": {
     "iopub.execute_input": "2024-06-10T06:34:59.245698Z",
     "iopub.status.busy": "2024-06-10T06:34:59.245183Z",
     "iopub.status.idle": "2024-06-10T06:35:02.260598Z",
     "shell.execute_reply": "2024-06-10T06:35:02.258665Z"
    },
    "papermill": {
     "duration": 3.035382,
     "end_time": "2024-06-10T06:35:02.264988",
     "exception": false,
     "start_time": "2024-06-10T06:34:59.229606",
     "status": "completed"
    },
    "tags": []
   },
   "outputs": [],
   "source": [
    "import pandas as pd\n",
    "import numpy as np\n",
    "import matplotlib.pyplot as plt\n",
    "%matplotlib inline\n",
    "from sklearn.preprocessing import OrdinalEncoder, OneHotEncoder\n",
    "from sklearn.impute import SimpleImputer\n",
    "from sklearn.compose import make_column_transformer\n",
    "from sklearn.pipeline import Pipeline, make_pipeline\n",
    "from sklearn.linear_model import LogisticRegression\n",
    "from sklearn.svm import SVC\n",
    "from sklearn.ensemble import RandomForestClassifier\n",
    "from sklearn.tree import DecisionTreeClassifier\n",
    "from sklearn.neighbors import KNeighborsClassifier\n",
    "from sklearn.naive_bayes import GaussianNB\n",
    "\n",
    "from sklearn.model_selection import cross_val_score, StratifiedKFold, train_test_split, GridSearchCV"
   ]
  },
  {
   "cell_type": "code",
   "execution_count": 2,
   "id": "0cc51296",
   "metadata": {
    "execution": {
     "iopub.execute_input": "2024-06-10T06:35:02.307243Z",
     "iopub.status.busy": "2024-06-10T06:35:02.306643Z",
     "iopub.status.idle": "2024-06-10T06:35:02.348431Z",
     "shell.execute_reply": "2024-06-10T06:35:02.347063Z"
    },
    "papermill": {
     "duration": 0.066033,
     "end_time": "2024-06-10T06:35:02.351727",
     "exception": false,
     "start_time": "2024-06-10T06:35:02.285694",
     "status": "completed"
    },
    "tags": []
   },
   "outputs": [],
   "source": [
    "train_df = pd.read_csv('/kaggle/input/test-train/train (1).csv')\n",
    "test_df = pd.read_csv('/kaggle/input/test-train/test (1).csv')\n"
   ]
  },
  {
   "cell_type": "code",
   "execution_count": 3,
   "id": "666c5dc5",
   "metadata": {
    "execution": {
     "iopub.execute_input": "2024-06-10T06:35:02.388656Z",
     "iopub.status.busy": "2024-06-10T06:35:02.387130Z",
     "iopub.status.idle": "2024-06-10T06:35:02.423642Z",
     "shell.execute_reply": "2024-06-10T06:35:02.422085Z"
    },
    "papermill": {
     "duration": 0.05907,
     "end_time": "2024-06-10T06:35:02.427284",
     "exception": false,
     "start_time": "2024-06-10T06:35:02.368214",
     "status": "completed"
    },
    "tags": []
   },
   "outputs": [
    {
     "data": {
      "text/html": [
       "<div>\n",
       "<style scoped>\n",
       "    .dataframe tbody tr th:only-of-type {\n",
       "        vertical-align: middle;\n",
       "    }\n",
       "\n",
       "    .dataframe tbody tr th {\n",
       "        vertical-align: top;\n",
       "    }\n",
       "\n",
       "    .dataframe thead th {\n",
       "        text-align: right;\n",
       "    }\n",
       "</style>\n",
       "<table border=\"1\" class=\"dataframe\">\n",
       "  <thead>\n",
       "    <tr style=\"text-align: right;\">\n",
       "      <th></th>\n",
       "      <th>PassengerId</th>\n",
       "      <th>Survived</th>\n",
       "      <th>Pclass</th>\n",
       "      <th>Name</th>\n",
       "      <th>Sex</th>\n",
       "      <th>Age</th>\n",
       "      <th>SibSp</th>\n",
       "      <th>Parch</th>\n",
       "      <th>Ticket</th>\n",
       "      <th>Fare</th>\n",
       "      <th>Cabin</th>\n",
       "      <th>Embarked</th>\n",
       "    </tr>\n",
       "  </thead>\n",
       "  <tbody>\n",
       "    <tr>\n",
       "      <th>0</th>\n",
       "      <td>1</td>\n",
       "      <td>0</td>\n",
       "      <td>3</td>\n",
       "      <td>Braund, Mr. Owen Harris</td>\n",
       "      <td>male</td>\n",
       "      <td>22.0</td>\n",
       "      <td>1</td>\n",
       "      <td>0</td>\n",
       "      <td>A/5 21171</td>\n",
       "      <td>7.2500</td>\n",
       "      <td>NaN</td>\n",
       "      <td>S</td>\n",
       "    </tr>\n",
       "    <tr>\n",
       "      <th>1</th>\n",
       "      <td>2</td>\n",
       "      <td>1</td>\n",
       "      <td>1</td>\n",
       "      <td>Cumings, Mrs. John Bradley (Florence Briggs Th...</td>\n",
       "      <td>female</td>\n",
       "      <td>38.0</td>\n",
       "      <td>1</td>\n",
       "      <td>0</td>\n",
       "      <td>PC 17599</td>\n",
       "      <td>71.2833</td>\n",
       "      <td>C85</td>\n",
       "      <td>C</td>\n",
       "    </tr>\n",
       "    <tr>\n",
       "      <th>2</th>\n",
       "      <td>3</td>\n",
       "      <td>1</td>\n",
       "      <td>3</td>\n",
       "      <td>Heikkinen, Miss. Laina</td>\n",
       "      <td>female</td>\n",
       "      <td>26.0</td>\n",
       "      <td>0</td>\n",
       "      <td>0</td>\n",
       "      <td>STON/O2. 3101282</td>\n",
       "      <td>7.9250</td>\n",
       "      <td>NaN</td>\n",
       "      <td>S</td>\n",
       "    </tr>\n",
       "    <tr>\n",
       "      <th>3</th>\n",
       "      <td>4</td>\n",
       "      <td>1</td>\n",
       "      <td>1</td>\n",
       "      <td>Futrelle, Mrs. Jacques Heath (Lily May Peel)</td>\n",
       "      <td>female</td>\n",
       "      <td>35.0</td>\n",
       "      <td>1</td>\n",
       "      <td>0</td>\n",
       "      <td>113803</td>\n",
       "      <td>53.1000</td>\n",
       "      <td>C123</td>\n",
       "      <td>S</td>\n",
       "    </tr>\n",
       "    <tr>\n",
       "      <th>4</th>\n",
       "      <td>5</td>\n",
       "      <td>0</td>\n",
       "      <td>3</td>\n",
       "      <td>Allen, Mr. William Henry</td>\n",
       "      <td>male</td>\n",
       "      <td>35.0</td>\n",
       "      <td>0</td>\n",
       "      <td>0</td>\n",
       "      <td>373450</td>\n",
       "      <td>8.0500</td>\n",
       "      <td>NaN</td>\n",
       "      <td>S</td>\n",
       "    </tr>\n",
       "  </tbody>\n",
       "</table>\n",
       "</div>"
      ],
      "text/plain": [
       "   PassengerId  Survived  Pclass  \\\n",
       "0            1         0       3   \n",
       "1            2         1       1   \n",
       "2            3         1       3   \n",
       "3            4         1       1   \n",
       "4            5         0       3   \n",
       "\n",
       "                                                Name     Sex   Age  SibSp  \\\n",
       "0                            Braund, Mr. Owen Harris    male  22.0      1   \n",
       "1  Cumings, Mrs. John Bradley (Florence Briggs Th...  female  38.0      1   \n",
       "2                             Heikkinen, Miss. Laina  female  26.0      0   \n",
       "3       Futrelle, Mrs. Jacques Heath (Lily May Peel)  female  35.0      1   \n",
       "4                           Allen, Mr. William Henry    male  35.0      0   \n",
       "\n",
       "   Parch            Ticket     Fare Cabin Embarked  \n",
       "0      0         A/5 21171   7.2500   NaN        S  \n",
       "1      0          PC 17599  71.2833   C85        C  \n",
       "2      0  STON/O2. 3101282   7.9250   NaN        S  \n",
       "3      0            113803  53.1000  C123        S  \n",
       "4      0            373450   8.0500   NaN        S  "
      ]
     },
     "execution_count": 3,
     "metadata": {},
     "output_type": "execute_result"
    }
   ],
   "source": [
    "train_df.head()"
   ]
  },
  {
   "cell_type": "code",
   "execution_count": 4,
   "id": "b68a849e",
   "metadata": {
    "execution": {
     "iopub.execute_input": "2024-06-10T06:35:02.458201Z",
     "iopub.status.busy": "2024-06-10T06:35:02.456249Z",
     "iopub.status.idle": "2024-06-10T06:35:02.492393Z",
     "shell.execute_reply": "2024-06-10T06:35:02.488318Z"
    },
    "papermill": {
     "duration": 0.056099,
     "end_time": "2024-06-10T06:35:02.497085",
     "exception": false,
     "start_time": "2024-06-10T06:35:02.440986",
     "status": "completed"
    },
    "tags": []
   },
   "outputs": [
    {
     "name": "stdout",
     "output_type": "stream",
     "text": [
      "<class 'pandas.core.frame.DataFrame'>\n",
      "RangeIndex: 891 entries, 0 to 890\n",
      "Data columns (total 12 columns):\n",
      " #   Column       Non-Null Count  Dtype  \n",
      "---  ------       --------------  -----  \n",
      " 0   PassengerId  891 non-null    int64  \n",
      " 1   Survived     891 non-null    int64  \n",
      " 2   Pclass       891 non-null    int64  \n",
      " 3   Name         891 non-null    object \n",
      " 4   Sex          891 non-null    object \n",
      " 5   Age          714 non-null    float64\n",
      " 6   SibSp        891 non-null    int64  \n",
      " 7   Parch        891 non-null    int64  \n",
      " 8   Ticket       891 non-null    object \n",
      " 9   Fare         891 non-null    float64\n",
      " 10  Cabin        204 non-null    object \n",
      " 11  Embarked     889 non-null    object \n",
      "dtypes: float64(2), int64(5), object(5)\n",
      "memory usage: 83.7+ KB\n"
     ]
    }
   ],
   "source": [
    "train_df.info()"
   ]
  },
  {
   "cell_type": "code",
   "execution_count": 5,
   "id": "7e13aed8",
   "metadata": {
    "execution": {
     "iopub.execute_input": "2024-06-10T06:35:02.534241Z",
     "iopub.status.busy": "2024-06-10T06:35:02.533703Z",
     "iopub.status.idle": "2024-06-10T06:35:02.564449Z",
     "shell.execute_reply": "2024-06-10T06:35:02.562865Z"
    },
    "papermill": {
     "duration": 0.052781,
     "end_time": "2024-06-10T06:35:02.567903",
     "exception": false,
     "start_time": "2024-06-10T06:35:02.515122",
     "status": "completed"
    },
    "tags": []
   },
   "outputs": [
    {
     "data": {
      "text/html": [
       "<div>\n",
       "<style scoped>\n",
       "    .dataframe tbody tr th:only-of-type {\n",
       "        vertical-align: middle;\n",
       "    }\n",
       "\n",
       "    .dataframe tbody tr th {\n",
       "        vertical-align: top;\n",
       "    }\n",
       "\n",
       "    .dataframe thead th {\n",
       "        text-align: right;\n",
       "    }\n",
       "</style>\n",
       "<table border=\"1\" class=\"dataframe\">\n",
       "  <thead>\n",
       "    <tr style=\"text-align: right;\">\n",
       "      <th></th>\n",
       "      <th>Name</th>\n",
       "      <th>Sex</th>\n",
       "      <th>Ticket</th>\n",
       "      <th>Cabin</th>\n",
       "      <th>Embarked</th>\n",
       "    </tr>\n",
       "  </thead>\n",
       "  <tbody>\n",
       "    <tr>\n",
       "      <th>count</th>\n",
       "      <td>891</td>\n",
       "      <td>891</td>\n",
       "      <td>891</td>\n",
       "      <td>204</td>\n",
       "      <td>889</td>\n",
       "    </tr>\n",
       "    <tr>\n",
       "      <th>unique</th>\n",
       "      <td>891</td>\n",
       "      <td>2</td>\n",
       "      <td>681</td>\n",
       "      <td>147</td>\n",
       "      <td>3</td>\n",
       "    </tr>\n",
       "    <tr>\n",
       "      <th>top</th>\n",
       "      <td>Braund, Mr. Owen Harris</td>\n",
       "      <td>male</td>\n",
       "      <td>347082</td>\n",
       "      <td>B96 B98</td>\n",
       "      <td>S</td>\n",
       "    </tr>\n",
       "    <tr>\n",
       "      <th>freq</th>\n",
       "      <td>1</td>\n",
       "      <td>577</td>\n",
       "      <td>7</td>\n",
       "      <td>4</td>\n",
       "      <td>644</td>\n",
       "    </tr>\n",
       "  </tbody>\n",
       "</table>\n",
       "</div>"
      ],
      "text/plain": [
       "                           Name   Sex  Ticket    Cabin Embarked\n",
       "count                       891   891     891      204      889\n",
       "unique                      891     2     681      147        3\n",
       "top     Braund, Mr. Owen Harris  male  347082  B96 B98        S\n",
       "freq                          1   577       7        4      644"
      ]
     },
     "execution_count": 5,
     "metadata": {},
     "output_type": "execute_result"
    }
   ],
   "source": [
    "train_df.describe(include = ['O'])"
   ]
  },
  {
   "cell_type": "code",
   "execution_count": 6,
   "id": "5dca6265",
   "metadata": {
    "execution": {
     "iopub.execute_input": "2024-06-10T06:35:02.600559Z",
     "iopub.status.busy": "2024-06-10T06:35:02.600048Z",
     "iopub.status.idle": "2024-06-10T06:35:02.617320Z",
     "shell.execute_reply": "2024-06-10T06:35:02.615712Z"
    },
    "papermill": {
     "duration": 0.037323,
     "end_time": "2024-06-10T06:35:02.620372",
     "exception": false,
     "start_time": "2024-06-10T06:35:02.583049",
     "status": "completed"
    },
    "tags": []
   },
   "outputs": [
    {
     "data": {
      "text/html": [
       "<div>\n",
       "<style scoped>\n",
       "    .dataframe tbody tr th:only-of-type {\n",
       "        vertical-align: middle;\n",
       "    }\n",
       "\n",
       "    .dataframe tbody tr th {\n",
       "        vertical-align: top;\n",
       "    }\n",
       "\n",
       "    .dataframe thead th {\n",
       "        text-align: right;\n",
       "    }\n",
       "</style>\n",
       "<table border=\"1\" class=\"dataframe\">\n",
       "  <thead>\n",
       "    <tr style=\"text-align: right;\">\n",
       "      <th></th>\n",
       "      <th>Pclass</th>\n",
       "      <th>Survived</th>\n",
       "    </tr>\n",
       "  </thead>\n",
       "  <tbody>\n",
       "    <tr>\n",
       "      <th>0</th>\n",
       "      <td>1</td>\n",
       "      <td>0.629630</td>\n",
       "    </tr>\n",
       "    <tr>\n",
       "      <th>1</th>\n",
       "      <td>2</td>\n",
       "      <td>0.472826</td>\n",
       "    </tr>\n",
       "    <tr>\n",
       "      <th>2</th>\n",
       "      <td>3</td>\n",
       "      <td>0.242363</td>\n",
       "    </tr>\n",
       "  </tbody>\n",
       "</table>\n",
       "</div>"
      ],
      "text/plain": [
       "   Pclass  Survived\n",
       "0       1  0.629630\n",
       "1       2  0.472826\n",
       "2       3  0.242363"
      ]
     },
     "execution_count": 6,
     "metadata": {},
     "output_type": "execute_result"
    }
   ],
   "source": [
    "train_df.groupby(['Pclass'], as_index = False)['Survived'].mean()"
   ]
  },
  {
   "cell_type": "code",
   "execution_count": 7,
   "id": "b3c9c6c6",
   "metadata": {
    "execution": {
     "iopub.execute_input": "2024-06-10T06:35:02.652064Z",
     "iopub.status.busy": "2024-06-10T06:35:02.650730Z",
     "iopub.status.idle": "2024-06-10T06:35:02.665351Z",
     "shell.execute_reply": "2024-06-10T06:35:02.663960Z"
    },
    "papermill": {
     "duration": 0.034026,
     "end_time": "2024-06-10T06:35:02.668766",
     "exception": false,
     "start_time": "2024-06-10T06:35:02.634740",
     "status": "completed"
    },
    "tags": []
   },
   "outputs": [
    {
     "data": {
      "text/html": [
       "<div>\n",
       "<style scoped>\n",
       "    .dataframe tbody tr th:only-of-type {\n",
       "        vertical-align: middle;\n",
       "    }\n",
       "\n",
       "    .dataframe tbody tr th {\n",
       "        vertical-align: top;\n",
       "    }\n",
       "\n",
       "    .dataframe thead th {\n",
       "        text-align: right;\n",
       "    }\n",
       "</style>\n",
       "<table border=\"1\" class=\"dataframe\">\n",
       "  <thead>\n",
       "    <tr style=\"text-align: right;\">\n",
       "      <th></th>\n",
       "      <th>Sex</th>\n",
       "      <th>Survived</th>\n",
       "    </tr>\n",
       "  </thead>\n",
       "  <tbody>\n",
       "    <tr>\n",
       "      <th>0</th>\n",
       "      <td>female</td>\n",
       "      <td>0.742038</td>\n",
       "    </tr>\n",
       "    <tr>\n",
       "      <th>1</th>\n",
       "      <td>male</td>\n",
       "      <td>0.188908</td>\n",
       "    </tr>\n",
       "  </tbody>\n",
       "</table>\n",
       "</div>"
      ],
      "text/plain": [
       "      Sex  Survived\n",
       "0  female  0.742038\n",
       "1    male  0.188908"
      ]
     },
     "execution_count": 7,
     "metadata": {},
     "output_type": "execute_result"
    }
   ],
   "source": [
    "train_df.groupby(['Sex'], as_index = False)['Survived'].mean()"
   ]
  },
  {
   "cell_type": "code",
   "execution_count": 8,
   "id": "314efa73",
   "metadata": {
    "execution": {
     "iopub.execute_input": "2024-06-10T06:35:02.700969Z",
     "iopub.status.busy": "2024-06-10T06:35:02.699851Z",
     "iopub.status.idle": "2024-06-10T06:35:02.716213Z",
     "shell.execute_reply": "2024-06-10T06:35:02.714577Z"
    },
    "papermill": {
     "duration": 0.036402,
     "end_time": "2024-06-10T06:35:02.719853",
     "exception": false,
     "start_time": "2024-06-10T06:35:02.683451",
     "status": "completed"
    },
    "tags": []
   },
   "outputs": [
    {
     "data": {
      "text/html": [
       "<div>\n",
       "<style scoped>\n",
       "    .dataframe tbody tr th:only-of-type {\n",
       "        vertical-align: middle;\n",
       "    }\n",
       "\n",
       "    .dataframe tbody tr th {\n",
       "        vertical-align: top;\n",
       "    }\n",
       "\n",
       "    .dataframe thead th {\n",
       "        text-align: right;\n",
       "    }\n",
       "</style>\n",
       "<table border=\"1\" class=\"dataframe\">\n",
       "  <thead>\n",
       "    <tr style=\"text-align: right;\">\n",
       "      <th></th>\n",
       "      <th>SibSp</th>\n",
       "      <th>Survived</th>\n",
       "    </tr>\n",
       "  </thead>\n",
       "  <tbody>\n",
       "    <tr>\n",
       "      <th>0</th>\n",
       "      <td>0</td>\n",
       "      <td>0.345395</td>\n",
       "    </tr>\n",
       "    <tr>\n",
       "      <th>1</th>\n",
       "      <td>1</td>\n",
       "      <td>0.535885</td>\n",
       "    </tr>\n",
       "    <tr>\n",
       "      <th>2</th>\n",
       "      <td>2</td>\n",
       "      <td>0.464286</td>\n",
       "    </tr>\n",
       "    <tr>\n",
       "      <th>3</th>\n",
       "      <td>3</td>\n",
       "      <td>0.250000</td>\n",
       "    </tr>\n",
       "    <tr>\n",
       "      <th>4</th>\n",
       "      <td>4</td>\n",
       "      <td>0.166667</td>\n",
       "    </tr>\n",
       "    <tr>\n",
       "      <th>5</th>\n",
       "      <td>5</td>\n",
       "      <td>0.000000</td>\n",
       "    </tr>\n",
       "    <tr>\n",
       "      <th>6</th>\n",
       "      <td>8</td>\n",
       "      <td>0.000000</td>\n",
       "    </tr>\n",
       "  </tbody>\n",
       "</table>\n",
       "</div>"
      ],
      "text/plain": [
       "   SibSp  Survived\n",
       "0      0  0.345395\n",
       "1      1  0.535885\n",
       "2      2  0.464286\n",
       "3      3  0.250000\n",
       "4      4  0.166667\n",
       "5      5  0.000000\n",
       "6      8  0.000000"
      ]
     },
     "execution_count": 8,
     "metadata": {},
     "output_type": "execute_result"
    }
   ],
   "source": [
    "train_df.groupby(['SibSp'], as_index = False)['Survived'].mean()"
   ]
  },
  {
   "cell_type": "code",
   "execution_count": 9,
   "id": "9c360517",
   "metadata": {
    "execution": {
     "iopub.execute_input": "2024-06-10T06:35:02.757468Z",
     "iopub.status.busy": "2024-06-10T06:35:02.756834Z",
     "iopub.status.idle": "2024-06-10T06:35:02.774907Z",
     "shell.execute_reply": "2024-06-10T06:35:02.773537Z"
    },
    "papermill": {
     "duration": 0.038326,
     "end_time": "2024-06-10T06:35:02.777533",
     "exception": false,
     "start_time": "2024-06-10T06:35:02.739207",
     "status": "completed"
    },
    "tags": []
   },
   "outputs": [
    {
     "data": {
      "text/html": [
       "<div>\n",
       "<style scoped>\n",
       "    .dataframe tbody tr th:only-of-type {\n",
       "        vertical-align: middle;\n",
       "    }\n",
       "\n",
       "    .dataframe tbody tr th {\n",
       "        vertical-align: top;\n",
       "    }\n",
       "\n",
       "    .dataframe thead th {\n",
       "        text-align: right;\n",
       "    }\n",
       "</style>\n",
       "<table border=\"1\" class=\"dataframe\">\n",
       "  <thead>\n",
       "    <tr style=\"text-align: right;\">\n",
       "      <th></th>\n",
       "      <th>Parch</th>\n",
       "      <th>Survived</th>\n",
       "    </tr>\n",
       "  </thead>\n",
       "  <tbody>\n",
       "    <tr>\n",
       "      <th>0</th>\n",
       "      <td>0</td>\n",
       "      <td>0.343658</td>\n",
       "    </tr>\n",
       "    <tr>\n",
       "      <th>1</th>\n",
       "      <td>1</td>\n",
       "      <td>0.550847</td>\n",
       "    </tr>\n",
       "    <tr>\n",
       "      <th>2</th>\n",
       "      <td>2</td>\n",
       "      <td>0.500000</td>\n",
       "    </tr>\n",
       "    <tr>\n",
       "      <th>3</th>\n",
       "      <td>3</td>\n",
       "      <td>0.600000</td>\n",
       "    </tr>\n",
       "    <tr>\n",
       "      <th>4</th>\n",
       "      <td>4</td>\n",
       "      <td>0.000000</td>\n",
       "    </tr>\n",
       "    <tr>\n",
       "      <th>5</th>\n",
       "      <td>5</td>\n",
       "      <td>0.200000</td>\n",
       "    </tr>\n",
       "    <tr>\n",
       "      <th>6</th>\n",
       "      <td>6</td>\n",
       "      <td>0.000000</td>\n",
       "    </tr>\n",
       "  </tbody>\n",
       "</table>\n",
       "</div>"
      ],
      "text/plain": [
       "   Parch  Survived\n",
       "0      0  0.343658\n",
       "1      1  0.550847\n",
       "2      2  0.500000\n",
       "3      3  0.600000\n",
       "4      4  0.000000\n",
       "5      5  0.200000\n",
       "6      6  0.000000"
      ]
     },
     "execution_count": 9,
     "metadata": {},
     "output_type": "execute_result"
    }
   ],
   "source": [
    "train_df.groupby(['Parch'], as_index = False)['Survived'].mean()"
   ]
  },
  {
   "cell_type": "code",
   "execution_count": 10,
   "id": "a5bc3922",
   "metadata": {
    "execution": {
     "iopub.execute_input": "2024-06-10T06:35:02.811018Z",
     "iopub.status.busy": "2024-06-10T06:35:02.809728Z",
     "iopub.status.idle": "2024-06-10T06:35:02.819223Z",
     "shell.execute_reply": "2024-06-10T06:35:02.817785Z"
    },
    "papermill": {
     "duration": 0.029634,
     "end_time": "2024-06-10T06:35:02.822121",
     "exception": false,
     "start_time": "2024-06-10T06:35:02.792487",
     "status": "completed"
    },
    "tags": []
   },
   "outputs": [],
   "source": [
    "train_df['FamilySize'] = train_df['SibSp'] + train_df['Parch'] + 1\n",
    "test_df['FamilySize'] = test_df['SibSp'] + test_df['Parch'] + 1"
   ]
  },
  {
   "cell_type": "code",
   "execution_count": 11,
   "id": "27a464f8",
   "metadata": {
    "execution": {
     "iopub.execute_input": "2024-06-10T06:35:02.855538Z",
     "iopub.status.busy": "2024-06-10T06:35:02.854930Z",
     "iopub.status.idle": "2024-06-10T06:35:02.873949Z",
     "shell.execute_reply": "2024-06-10T06:35:02.872402Z"
    },
    "papermill": {
     "duration": 0.039712,
     "end_time": "2024-06-10T06:35:02.877084",
     "exception": false,
     "start_time": "2024-06-10T06:35:02.837372",
     "status": "completed"
    },
    "tags": []
   },
   "outputs": [
    {
     "data": {
      "text/html": [
       "<div>\n",
       "<style scoped>\n",
       "    .dataframe tbody tr th:only-of-type {\n",
       "        vertical-align: middle;\n",
       "    }\n",
       "\n",
       "    .dataframe tbody tr th {\n",
       "        vertical-align: top;\n",
       "    }\n",
       "\n",
       "    .dataframe thead th {\n",
       "        text-align: right;\n",
       "    }\n",
       "</style>\n",
       "<table border=\"1\" class=\"dataframe\">\n",
       "  <thead>\n",
       "    <tr style=\"text-align: right;\">\n",
       "      <th></th>\n",
       "      <th>FamilySize</th>\n",
       "      <th>Survived</th>\n",
       "    </tr>\n",
       "  </thead>\n",
       "  <tbody>\n",
       "    <tr>\n",
       "      <th>0</th>\n",
       "      <td>1</td>\n",
       "      <td>0.303538</td>\n",
       "    </tr>\n",
       "    <tr>\n",
       "      <th>1</th>\n",
       "      <td>2</td>\n",
       "      <td>0.552795</td>\n",
       "    </tr>\n",
       "    <tr>\n",
       "      <th>2</th>\n",
       "      <td>3</td>\n",
       "      <td>0.578431</td>\n",
       "    </tr>\n",
       "    <tr>\n",
       "      <th>3</th>\n",
       "      <td>4</td>\n",
       "      <td>0.724138</td>\n",
       "    </tr>\n",
       "    <tr>\n",
       "      <th>4</th>\n",
       "      <td>5</td>\n",
       "      <td>0.200000</td>\n",
       "    </tr>\n",
       "    <tr>\n",
       "      <th>5</th>\n",
       "      <td>6</td>\n",
       "      <td>0.136364</td>\n",
       "    </tr>\n",
       "    <tr>\n",
       "      <th>6</th>\n",
       "      <td>7</td>\n",
       "      <td>0.333333</td>\n",
       "    </tr>\n",
       "    <tr>\n",
       "      <th>7</th>\n",
       "      <td>8</td>\n",
       "      <td>0.000000</td>\n",
       "    </tr>\n",
       "    <tr>\n",
       "      <th>8</th>\n",
       "      <td>11</td>\n",
       "      <td>0.000000</td>\n",
       "    </tr>\n",
       "  </tbody>\n",
       "</table>\n",
       "</div>"
      ],
      "text/plain": [
       "   FamilySize  Survived\n",
       "0           1  0.303538\n",
       "1           2  0.552795\n",
       "2           3  0.578431\n",
       "3           4  0.724138\n",
       "4           5  0.200000\n",
       "5           6  0.136364\n",
       "6           7  0.333333\n",
       "7           8  0.000000\n",
       "8          11  0.000000"
      ]
     },
     "execution_count": 11,
     "metadata": {},
     "output_type": "execute_result"
    }
   ],
   "source": [
    " train_df.groupby(['FamilySize'], as_index = False)['Survived'].mean()"
   ]
  },
  {
   "cell_type": "code",
   "execution_count": 12,
   "id": "adb0787a",
   "metadata": {
    "execution": {
     "iopub.execute_input": "2024-06-10T06:35:02.912735Z",
     "iopub.status.busy": "2024-06-10T06:35:02.911574Z",
     "iopub.status.idle": "2024-06-10T06:35:02.924346Z",
     "shell.execute_reply": "2024-06-10T06:35:02.922819Z"
    },
    "papermill": {
     "duration": 0.034711,
     "end_time": "2024-06-10T06:35:02.927696",
     "exception": false,
     "start_time": "2024-06-10T06:35:02.892985",
     "status": "completed"
    },
    "tags": []
   },
   "outputs": [],
   "source": [
    "family_map = {1: 'Alone', 2: 'Small', 3: 'Small', 4: 'Small', 5: 'Medium', 6: 'Medium', 7: 'Large', 8: 'Large', 11: 'large'}\n",
    "train_df['Family_Size_Grouped'] = train_df['FamilySize'].map(family_map)\n",
    "test_df['Family_Size_Grouped'] = test_df['FamilySize'].map(family_map)"
   ]
  },
  {
   "cell_type": "code",
   "execution_count": 13,
   "id": "f8c0575c",
   "metadata": {
    "execution": {
     "iopub.execute_input": "2024-06-10T06:35:02.961625Z",
     "iopub.status.busy": "2024-06-10T06:35:02.961014Z",
     "iopub.status.idle": "2024-06-10T06:35:02.979191Z",
     "shell.execute_reply": "2024-06-10T06:35:02.977799Z"
    },
    "papermill": {
     "duration": 0.038861,
     "end_time": "2024-06-10T06:35:02.982359",
     "exception": false,
     "start_time": "2024-06-10T06:35:02.943498",
     "status": "completed"
    },
    "tags": []
   },
   "outputs": [
    {
     "data": {
      "text/html": [
       "<div>\n",
       "<style scoped>\n",
       "    .dataframe tbody tr th:only-of-type {\n",
       "        vertical-align: middle;\n",
       "    }\n",
       "\n",
       "    .dataframe tbody tr th {\n",
       "        vertical-align: top;\n",
       "    }\n",
       "\n",
       "    .dataframe thead th {\n",
       "        text-align: right;\n",
       "    }\n",
       "</style>\n",
       "<table border=\"1\" class=\"dataframe\">\n",
       "  <thead>\n",
       "    <tr style=\"text-align: right;\">\n",
       "      <th></th>\n",
       "      <th>Family_Size_Grouped</th>\n",
       "      <th>Survived</th>\n",
       "    </tr>\n",
       "  </thead>\n",
       "  <tbody>\n",
       "    <tr>\n",
       "      <th>0</th>\n",
       "      <td>Alone</td>\n",
       "      <td>0.303538</td>\n",
       "    </tr>\n",
       "    <tr>\n",
       "      <th>1</th>\n",
       "      <td>Large</td>\n",
       "      <td>0.222222</td>\n",
       "    </tr>\n",
       "    <tr>\n",
       "      <th>2</th>\n",
       "      <td>Medium</td>\n",
       "      <td>0.162162</td>\n",
       "    </tr>\n",
       "    <tr>\n",
       "      <th>3</th>\n",
       "      <td>Small</td>\n",
       "      <td>0.578767</td>\n",
       "    </tr>\n",
       "    <tr>\n",
       "      <th>4</th>\n",
       "      <td>large</td>\n",
       "      <td>0.000000</td>\n",
       "    </tr>\n",
       "  </tbody>\n",
       "</table>\n",
       "</div>"
      ],
      "text/plain": [
       "  Family_Size_Grouped  Survived\n",
       "0               Alone  0.303538\n",
       "1               Large  0.222222\n",
       "2              Medium  0.162162\n",
       "3               Small  0.578767\n",
       "4               large  0.000000"
      ]
     },
     "execution_count": 13,
     "metadata": {},
     "output_type": "execute_result"
    }
   ],
   "source": [
    " train_df.groupby(['Family_Size_Grouped'], as_index = False)['Survived'].mean()"
   ]
  },
  {
   "cell_type": "code",
   "execution_count": 14,
   "id": "1785e58e",
   "metadata": {
    "execution": {
     "iopub.execute_input": "2024-06-10T06:35:03.016222Z",
     "iopub.status.busy": "2024-06-10T06:35:03.015583Z",
     "iopub.status.idle": "2024-06-10T06:35:03.033935Z",
     "shell.execute_reply": "2024-06-10T06:35:03.032389Z"
    },
    "papermill": {
     "duration": 0.038892,
     "end_time": "2024-06-10T06:35:03.036995",
     "exception": false,
     "start_time": "2024-06-10T06:35:02.998103",
     "status": "completed"
    },
    "tags": []
   },
   "outputs": [
    {
     "data": {
      "text/html": [
       "<div>\n",
       "<style scoped>\n",
       "    .dataframe tbody tr th:only-of-type {\n",
       "        vertical-align: middle;\n",
       "    }\n",
       "\n",
       "    .dataframe tbody tr th {\n",
       "        vertical-align: top;\n",
       "    }\n",
       "\n",
       "    .dataframe thead th {\n",
       "        text-align: right;\n",
       "    }\n",
       "</style>\n",
       "<table border=\"1\" class=\"dataframe\">\n",
       "  <thead>\n",
       "    <tr style=\"text-align: right;\">\n",
       "      <th></th>\n",
       "      <th>Embarked</th>\n",
       "      <th>Survived</th>\n",
       "    </tr>\n",
       "  </thead>\n",
       "  <tbody>\n",
       "    <tr>\n",
       "      <th>0</th>\n",
       "      <td>C</td>\n",
       "      <td>0.553571</td>\n",
       "    </tr>\n",
       "    <tr>\n",
       "      <th>1</th>\n",
       "      <td>Q</td>\n",
       "      <td>0.389610</td>\n",
       "    </tr>\n",
       "    <tr>\n",
       "      <th>2</th>\n",
       "      <td>S</td>\n",
       "      <td>0.336957</td>\n",
       "    </tr>\n",
       "  </tbody>\n",
       "</table>\n",
       "</div>"
      ],
      "text/plain": [
       "  Embarked  Survived\n",
       "0        C  0.553571\n",
       "1        Q  0.389610\n",
       "2        S  0.336957"
      ]
     },
     "execution_count": 14,
     "metadata": {},
     "output_type": "execute_result"
    }
   ],
   "source": [
    " train_df.groupby(['Embarked'], as_index = False)['Survived'].mean()"
   ]
  },
  {
   "cell_type": "code",
   "execution_count": 15,
   "id": "1d2938c6",
   "metadata": {
    "execution": {
     "iopub.execute_input": "2024-06-10T06:35:03.071519Z",
     "iopub.status.busy": "2024-06-10T06:35:03.071030Z",
     "iopub.status.idle": "2024-06-10T06:35:03.479004Z",
     "shell.execute_reply": "2024-06-10T06:35:03.477542Z"
    },
    "papermill": {
     "duration": 0.428493,
     "end_time": "2024-06-10T06:35:03.482340",
     "exception": false,
     "start_time": "2024-06-10T06:35:03.053847",
     "status": "completed"
    },
    "tags": []
   },
   "outputs": [],
   "source": [
    "import seaborn as sns"
   ]
  },
  {
   "cell_type": "code",
   "execution_count": 16,
   "id": "ed7ce255",
   "metadata": {
    "execution": {
     "iopub.execute_input": "2024-06-10T06:35:03.516066Z",
     "iopub.status.busy": "2024-06-10T06:35:03.515561Z",
     "iopub.status.idle": "2024-06-10T06:35:04.583849Z",
     "shell.execute_reply": "2024-06-10T06:35:04.582481Z"
    },
    "papermill": {
     "duration": 1.088794,
     "end_time": "2024-06-10T06:35:04.587288",
     "exception": false,
     "start_time": "2024-06-10T06:35:03.498494",
     "status": "completed"
    },
    "tags": []
   },
   "outputs": [
    {
     "name": "stderr",
     "output_type": "stream",
     "text": [
      "/opt/conda/lib/python3.10/site-packages/seaborn/_oldcore.py:1119: FutureWarning: use_inf_as_na option is deprecated and will be removed in a future version. Convert inf values to NaN before operating instead.\n",
      "  with pd.option_context('mode.use_inf_as_na', True):\n",
      "/opt/conda/lib/python3.10/site-packages/seaborn/_oldcore.py:1075: FutureWarning: When grouping with a length-1 list-like, you will need to pass a length-1 tuple to get_group in a future version of pandas. Pass `(name,)` instead of `name` to silence this warning.\n",
      "  data_subset = grouped_data.get_group(pd_key)\n",
      "/opt/conda/lib/python3.10/site-packages/seaborn/_oldcore.py:1075: FutureWarning: When grouping with a length-1 list-like, you will need to pass a length-1 tuple to get_group in a future version of pandas. Pass `(name,)` instead of `name` to silence this warning.\n",
      "  data_subset = grouped_data.get_group(pd_key)\n",
      "/opt/conda/lib/python3.10/site-packages/seaborn/_oldcore.py:1075: FutureWarning: When grouping with a length-1 list-like, you will need to pass a length-1 tuple to get_group in a future version of pandas. Pass `(name,)` instead of `name` to silence this warning.\n",
      "  data_subset = grouped_data.get_group(pd_key)\n"
     ]
    },
    {
     "data": {
      "text/plain": [
       "<seaborn.axisgrid.FacetGrid at 0x7f12f57733d0>"
      ]
     },
     "execution_count": 16,
     "metadata": {},
     "output_type": "execute_result"
    },
    {
     "data": {
      "image/png": "[encoded data removed]",
      "text/plain": [
       "<Figure size 1000x500 with 2 Axes>"
      ]
     },
     "metadata": {},
     "output_type": "display_data"
    }
   ],
   "source": [
    "sns.displot(train_df, x = 'Age', col = 'Survived')"
   ]
  },
  {
   "cell_type": "code",
   "execution_count": 17,
   "id": "5bd4b3ff",
   "metadata": {
    "execution": {
     "iopub.execute_input": "2024-06-10T06:35:04.624293Z",
     "iopub.status.busy": "2024-06-10T06:35:04.623740Z",
     "iopub.status.idle": "2024-06-10T06:35:04.647526Z",
     "shell.execute_reply": "2024-06-10T06:35:04.646223Z"
    },
    "papermill": {
     "duration": 0.045859,
     "end_time": "2024-06-10T06:35:04.650865",
     "exception": false,
     "start_time": "2024-06-10T06:35:04.605006",
     "status": "completed"
    },
    "tags": []
   },
   "outputs": [],
   "source": [
    "train_df['Age_Cut'] = pd.qcut(train_df['Age'], 8)\n",
    "test_df['Age_Cut'] = pd.qcut(test_df['Age'], 8)"
   ]
  },
  {
   "cell_type": "code",
   "execution_count": 18,
   "id": "cbf258df",
   "metadata": {
    "execution": {
     "iopub.execute_input": "2024-06-10T06:35:04.685063Z",
     "iopub.status.busy": "2024-06-10T06:35:04.684578Z",
     "iopub.status.idle": "2024-06-10T06:35:04.702992Z",
     "shell.execute_reply": "2024-06-10T06:35:04.701692Z"
    },
    "papermill": {
     "duration": 0.040106,
     "end_time": "2024-06-10T06:35:04.707141",
     "exception": false,
     "start_time": "2024-06-10T06:35:04.667035",
     "status": "completed"
    },
    "tags": []
   },
   "outputs": [
    {
     "name": "stderr",
     "output_type": "stream",
     "text": [
      "/tmp/ipykernel_18/1359979237.py:1: FutureWarning: The default of observed=False is deprecated and will be changed to True in a future version of pandas. Pass observed=False to retain current behavior or observed=True to adopt the future default and silence this warning.\n",
      "  train_df.groupby(['Age_Cut'], as_index = False)['Survived'].mean()\n"
     ]
    },
    {
     "data": {
      "text/html": [
       "<div>\n",
       "<style scoped>\n",
       "    .dataframe tbody tr th:only-of-type {\n",
       "        vertical-align: middle;\n",
       "    }\n",
       "\n",
       "    .dataframe tbody tr th {\n",
       "        vertical-align: top;\n",
       "    }\n",
       "\n",
       "    .dataframe thead th {\n",
       "        text-align: right;\n",
       "    }\n",
       "</style>\n",
       "<table border=\"1\" class=\"dataframe\">\n",
       "  <thead>\n",
       "    <tr style=\"text-align: right;\">\n",
       "      <th></th>\n",
       "      <th>Age_Cut</th>\n",
       "      <th>Survived</th>\n",
       "    </tr>\n",
       "  </thead>\n",
       "  <tbody>\n",
       "    <tr>\n",
       "      <th>0</th>\n",
       "      <td>(0.419, 16.0]</td>\n",
       "      <td>0.550000</td>\n",
       "    </tr>\n",
       "    <tr>\n",
       "      <th>1</th>\n",
       "      <td>(16.0, 20.125]</td>\n",
       "      <td>0.341772</td>\n",
       "    </tr>\n",
       "    <tr>\n",
       "      <th>2</th>\n",
       "      <td>(20.125, 24.0]</td>\n",
       "      <td>0.367347</td>\n",
       "    </tr>\n",
       "    <tr>\n",
       "      <th>3</th>\n",
       "      <td>(24.0, 28.0]</td>\n",
       "      <td>0.352941</td>\n",
       "    </tr>\n",
       "    <tr>\n",
       "      <th>4</th>\n",
       "      <td>(28.0, 32.312]</td>\n",
       "      <td>0.416667</td>\n",
       "    </tr>\n",
       "    <tr>\n",
       "      <th>5</th>\n",
       "      <td>(32.312, 38.0]</td>\n",
       "      <td>0.450549</td>\n",
       "    </tr>\n",
       "    <tr>\n",
       "      <th>6</th>\n",
       "      <td>(38.0, 47.0]</td>\n",
       "      <td>0.329545</td>\n",
       "    </tr>\n",
       "    <tr>\n",
       "      <th>7</th>\n",
       "      <td>(47.0, 80.0]</td>\n",
       "      <td>0.415730</td>\n",
       "    </tr>\n",
       "  </tbody>\n",
       "</table>\n",
       "</div>"
      ],
      "text/plain": [
       "          Age_Cut  Survived\n",
       "0   (0.419, 16.0]  0.550000\n",
       "1  (16.0, 20.125]  0.341772\n",
       "2  (20.125, 24.0]  0.367347\n",
       "3    (24.0, 28.0]  0.352941\n",
       "4  (28.0, 32.312]  0.416667\n",
       "5  (32.312, 38.0]  0.450549\n",
       "6    (38.0, 47.0]  0.329545\n",
       "7    (47.0, 80.0]  0.415730"
      ]
     },
     "execution_count": 18,
     "metadata": {},
     "output_type": "execute_result"
    }
   ],
   "source": [
    "train_df.groupby(['Age_Cut'], as_index = False)['Survived'].mean()"
   ]
  },
  {
   "cell_type": "code",
   "execution_count": null,
   "id": "38fccdce",
   "metadata": {
    "papermill": {
     "duration": 0.016049,
     "end_time": "2024-06-10T06:35:04.739564",
     "exception": false,
     "start_time": "2024-06-10T06:35:04.723515",
     "status": "completed"
    },
    "tags": []
   },
   "outputs": [],
   "source": []
  },
  {
   "cell_type": "code",
   "execution_count": 19,
   "id": "665730fe",
   "metadata": {
    "execution": {
     "iopub.execute_input": "2024-06-10T06:35:04.774861Z",
     "iopub.status.busy": "2024-06-10T06:35:04.774356Z",
     "iopub.status.idle": "2024-06-10T06:35:04.801735Z",
     "shell.execute_reply": "2024-06-10T06:35:04.799962Z"
    },
    "papermill": {
     "duration": 0.049009,
     "end_time": "2024-06-10T06:35:04.804915",
     "exception": false,
     "start_time": "2024-06-10T06:35:04.755906",
     "status": "completed"
    },
    "tags": []
   },
   "outputs": [
    {
     "data": {
      "text/plain": [
       "Series([], Name: Age, dtype: float64)"
      ]
     },
     "execution_count": 19,
     "metadata": {},
     "output_type": "execute_result"
    }
   ],
   "source": [
    "train_df.loc[train_df['Age'] <= 16, 'Age'] = 0\n",
    "train_df.loc[(train_df['Age'] > 16) & (train_df['Age'] <= 20.125), 'Age'] = 1\n",
    "train_df.loc[(train_df['Age'] > 20.125) & (train_df['Age'] <= 24), 'Age'] = 2\n",
    "train_df.loc[(train_df['Age'] > 24) & (train_df['Age'] <= 28), 'Age'] = 3\n",
    "train_df.loc[(train_df['Age'] > 28) & (train_df['Age'] <= 32.312), 'Age'] = 4\n",
    "train_df.loc[(train_df['Age'] > 32.312) & (train_df['Age'] <= 38.0), 'Age'] = 5\n",
    "train_df.loc[(train_df['Age'] > 38.0) & (train_df['Age'] <= 47.0), 'Age'] = 6\n",
    "train_df.loc[(train_df['Age'] > 47.0) & (train_df['Age'] <= 80.0), 'Age'] = 7\n",
    "train_df.loc[train_df['Age'] > 80, 'Age'] "
   ]
  },
  {
   "cell_type": "code",
   "execution_count": 20,
   "id": "c1c5e3c8",
   "metadata": {
    "execution": {
     "iopub.execute_input": "2024-06-10T06:35:04.840617Z",
     "iopub.status.busy": "2024-06-10T06:35:04.839607Z",
     "iopub.status.idle": "2024-06-10T06:35:04.864933Z",
     "shell.execute_reply": "2024-06-10T06:35:04.863677Z"
    },
    "papermill": {
     "duration": 0.046262,
     "end_time": "2024-06-10T06:35:04.867806",
     "exception": false,
     "start_time": "2024-06-10T06:35:04.821544",
     "status": "completed"
    },
    "tags": []
   },
   "outputs": [
    {
     "data": {
      "text/plain": [
       "Series([], Name: Age, dtype: float64)"
      ]
     },
     "execution_count": 20,
     "metadata": {},
     "output_type": "execute_result"
    }
   ],
   "source": [
    "test_df.loc[test_df['Age'] <= 16, 'Age'] = 0\n",
    "test_df.loc[(test_df['Age'] > 16) & (test_df['Age'] <= 20.125), 'Age'] = 1\n",
    "test_df.loc[(test_df['Age'] > 20.125) & (test_df['Age'] <= 24), 'Age'] = 2\n",
    "test_df.loc[(test_df['Age'] > 24) & (test_df['Age'] <= 28), 'Age'] = 3\n",
    "test_df.loc[(test_df['Age'] > 28) & (test_df['Age'] <= 32.312), 'Age'] = 4\n",
    "test_df.loc[(test_df['Age'] > 32.312) & (test_df['Age'] <= 38.0), 'Age'] = 5\n",
    "test_df.loc[(test_df['Age'] > 38.0) & (test_df['Age'] <= 47.0), 'Age'] = 6\n",
    "test_df.loc[(test_df['Age'] > 47.0) & (test_df['Age'] <= 80.0), 'Age'] = 7\n",
    "test_df.loc[test_df['Age'] > 80, 'Age'] "
   ]
  },
  {
   "cell_type": "code",
   "execution_count": 21,
   "id": "2cab44be",
   "metadata": {
    "execution": {
     "iopub.execute_input": "2024-06-10T06:35:04.903970Z",
     "iopub.status.busy": "2024-06-10T06:35:04.902783Z",
     "iopub.status.idle": "2024-06-10T06:35:04.929139Z",
     "shell.execute_reply": "2024-06-10T06:35:04.927741Z"
    },
    "papermill": {
     "duration": 0.047833,
     "end_time": "2024-06-10T06:35:04.932348",
     "exception": false,
     "start_time": "2024-06-10T06:35:04.884515",
     "status": "completed"
    },
    "tags": []
   },
   "outputs": [
    {
     "data": {
      "text/html": [
       "<div>\n",
       "<style scoped>\n",
       "    .dataframe tbody tr th:only-of-type {\n",
       "        vertical-align: middle;\n",
       "    }\n",
       "\n",
       "    .dataframe tbody tr th {\n",
       "        vertical-align: top;\n",
       "    }\n",
       "\n",
       "    .dataframe thead th {\n",
       "        text-align: right;\n",
       "    }\n",
       "</style>\n",
       "<table border=\"1\" class=\"dataframe\">\n",
       "  <thead>\n",
       "    <tr style=\"text-align: right;\">\n",
       "      <th></th>\n",
       "      <th>PassengerId</th>\n",
       "      <th>Survived</th>\n",
       "      <th>Pclass</th>\n",
       "      <th>Name</th>\n",
       "      <th>Sex</th>\n",
       "      <th>Age</th>\n",
       "      <th>SibSp</th>\n",
       "      <th>Parch</th>\n",
       "      <th>Ticket</th>\n",
       "      <th>Fare</th>\n",
       "      <th>Cabin</th>\n",
       "      <th>Embarked</th>\n",
       "      <th>FamilySize</th>\n",
       "      <th>Family_Size_Grouped</th>\n",
       "      <th>Age_Cut</th>\n",
       "    </tr>\n",
       "  </thead>\n",
       "  <tbody>\n",
       "    <tr>\n",
       "      <th>0</th>\n",
       "      <td>1</td>\n",
       "      <td>0</td>\n",
       "      <td>3</td>\n",
       "      <td>Braund, Mr. Owen Harris</td>\n",
       "      <td>male</td>\n",
       "      <td>2.0</td>\n",
       "      <td>1</td>\n",
       "      <td>0</td>\n",
       "      <td>A/5 21171</td>\n",
       "      <td>7.2500</td>\n",
       "      <td>NaN</td>\n",
       "      <td>S</td>\n",
       "      <td>2</td>\n",
       "      <td>Small</td>\n",
       "      <td>(20.125, 24.0]</td>\n",
       "    </tr>\n",
       "    <tr>\n",
       "      <th>1</th>\n",
       "      <td>2</td>\n",
       "      <td>1</td>\n",
       "      <td>1</td>\n",
       "      <td>Cumings, Mrs. John Bradley (Florence Briggs Th...</td>\n",
       "      <td>female</td>\n",
       "      <td>5.0</td>\n",
       "      <td>1</td>\n",
       "      <td>0</td>\n",
       "      <td>PC 17599</td>\n",
       "      <td>71.2833</td>\n",
       "      <td>C85</td>\n",
       "      <td>C</td>\n",
       "      <td>2</td>\n",
       "      <td>Small</td>\n",
       "      <td>(32.312, 38.0]</td>\n",
       "    </tr>\n",
       "    <tr>\n",
       "      <th>2</th>\n",
       "      <td>3</td>\n",
       "      <td>1</td>\n",
       "      <td>3</td>\n",
       "      <td>Heikkinen, Miss. Laina</td>\n",
       "      <td>female</td>\n",
       "      <td>3.0</td>\n",
       "      <td>0</td>\n",
       "      <td>0</td>\n",
       "      <td>STON/O2. 3101282</td>\n",
       "      <td>7.9250</td>\n",
       "      <td>NaN</td>\n",
       "      <td>S</td>\n",
       "      <td>1</td>\n",
       "      <td>Alone</td>\n",
       "      <td>(24.0, 28.0]</td>\n",
       "    </tr>\n",
       "    <tr>\n",
       "      <th>3</th>\n",
       "      <td>4</td>\n",
       "      <td>1</td>\n",
       "      <td>1</td>\n",
       "      <td>Futrelle, Mrs. Jacques Heath (Lily May Peel)</td>\n",
       "      <td>female</td>\n",
       "      <td>5.0</td>\n",
       "      <td>1</td>\n",
       "      <td>0</td>\n",
       "      <td>113803</td>\n",
       "      <td>53.1000</td>\n",
       "      <td>C123</td>\n",
       "      <td>S</td>\n",
       "      <td>2</td>\n",
       "      <td>Small</td>\n",
       "      <td>(32.312, 38.0]</td>\n",
       "    </tr>\n",
       "    <tr>\n",
       "      <th>4</th>\n",
       "      <td>5</td>\n",
       "      <td>0</td>\n",
       "      <td>3</td>\n",
       "      <td>Allen, Mr. William Henry</td>\n",
       "      <td>male</td>\n",
       "      <td>5.0</td>\n",
       "      <td>0</td>\n",
       "      <td>0</td>\n",
       "      <td>373450</td>\n",
       "      <td>8.0500</td>\n",
       "      <td>NaN</td>\n",
       "      <td>S</td>\n",
       "      <td>1</td>\n",
       "      <td>Alone</td>\n",
       "      <td>(32.312, 38.0]</td>\n",
       "    </tr>\n",
       "  </tbody>\n",
       "</table>\n",
       "</div>"
      ],
      "text/plain": [
       "   PassengerId  Survived  Pclass  \\\n",
       "0            1         0       3   \n",
       "1            2         1       1   \n",
       "2            3         1       3   \n",
       "3            4         1       1   \n",
       "4            5         0       3   \n",
       "\n",
       "                                                Name     Sex  Age  SibSp  \\\n",
       "0                            Braund, Mr. Owen Harris    male  2.0      1   \n",
       "1  Cumings, Mrs. John Bradley (Florence Briggs Th...  female  5.0      1   \n",
       "2                             Heikkinen, Miss. Laina  female  3.0      0   \n",
       "3       Futrelle, Mrs. Jacques Heath (Lily May Peel)  female  5.0      1   \n",
       "4                           Allen, Mr. William Henry    male  5.0      0   \n",
       "\n",
       "   Parch            Ticket     Fare Cabin Embarked  FamilySize  \\\n",
       "0      0         A/5 21171   7.2500   NaN        S           2   \n",
       "1      0          PC 17599  71.2833   C85        C           2   \n",
       "2      0  STON/O2. 3101282   7.9250   NaN        S           1   \n",
       "3      0            113803  53.1000  C123        S           2   \n",
       "4      0            373450   8.0500   NaN        S           1   \n",
       "\n",
       "  Family_Size_Grouped         Age_Cut  \n",
       "0               Small  (20.125, 24.0]  \n",
       "1               Small  (32.312, 38.0]  \n",
       "2               Alone    (24.0, 28.0]  \n",
       "3               Small  (32.312, 38.0]  \n",
       "4               Alone  (32.312, 38.0]  "
      ]
     },
     "execution_count": 21,
     "metadata": {},
     "output_type": "execute_result"
    }
   ],
   "source": [
    "train_df.head()"
   ]
  },
  {
   "cell_type": "code",
   "execution_count": 22,
   "id": "307b7992",
   "metadata": {
    "execution": {
     "iopub.execute_input": "2024-06-10T06:35:04.968867Z",
     "iopub.status.busy": "2024-06-10T06:35:04.968367Z",
     "iopub.status.idle": "2024-06-10T06:35:06.206999Z",
     "shell.execute_reply": "2024-06-10T06:35:06.205615Z"
    },
    "papermill": {
     "duration": 1.260078,
     "end_time": "2024-06-10T06:35:06.209715",
     "exception": false,
     "start_time": "2024-06-10T06:35:04.949637",
     "status": "completed"
    },
    "tags": []
   },
   "outputs": [
    {
     "name": "stderr",
     "output_type": "stream",
     "text": [
      "/opt/conda/lib/python3.10/site-packages/seaborn/_oldcore.py:1119: FutureWarning: use_inf_as_na option is deprecated and will be removed in a future version. Convert inf values to NaN before operating instead.\n",
      "  with pd.option_context('mode.use_inf_as_na', True):\n",
      "/opt/conda/lib/python3.10/site-packages/seaborn/_oldcore.py:1075: FutureWarning: When grouping with a length-1 list-like, you will need to pass a length-1 tuple to get_group in a future version of pandas. Pass `(name,)` instead of `name` to silence this warning.\n",
      "  data_subset = grouped_data.get_group(pd_key)\n",
      "/opt/conda/lib/python3.10/site-packages/seaborn/_oldcore.py:1075: FutureWarning: When grouping with a length-1 list-like, you will need to pass a length-1 tuple to get_group in a future version of pandas. Pass `(name,)` instead of `name` to silence this warning.\n",
      "  data_subset = grouped_data.get_group(pd_key)\n",
      "/opt/conda/lib/python3.10/site-packages/seaborn/_oldcore.py:1075: FutureWarning: When grouping with a length-1 list-like, you will need to pass a length-1 tuple to get_group in a future version of pandas. Pass `(name,)` instead of `name` to silence this warning.\n",
      "  data_subset = grouped_data.get_group(pd_key)\n"
     ]
    },
    {
     "data": {
      "text/plain": [
       "<seaborn.axisgrid.FacetGrid at 0x7f12f60ca410>"
      ]
     },
     "execution_count": 22,
     "metadata": {},
     "output_type": "execute_result"
    },
    {
     "data": {
      "image/png": "[encoded data removed]",
      "text/plain": [
       "<Figure size 1000x500 with 2 Axes>"
      ]
     },
     "metadata": {},
     "output_type": "display_data"
    }
   ],
   "source": [
    "sns.displot(train_df, x = 'Fare', col = 'Survived', height = 5)"
   ]
  },
  {
   "cell_type": "code",
   "execution_count": 23,
   "id": "93c77a1a",
   "metadata": {
    "execution": {
     "iopub.execute_input": "2024-06-10T06:35:06.247017Z",
     "iopub.status.busy": "2024-06-10T06:35:06.246575Z",
     "iopub.status.idle": "2024-06-10T06:35:06.261491Z",
     "shell.execute_reply": "2024-06-10T06:35:06.260307Z"
    },
    "papermill": {
     "duration": 0.036749,
     "end_time": "2024-06-10T06:35:06.264259",
     "exception": false,
     "start_time": "2024-06-10T06:35:06.227510",
     "status": "completed"
    },
    "tags": []
   },
   "outputs": [],
   "source": [
    "train_df['Fare_Cut'] = pd.qcut(train_df['Fare'], 6)\n",
    "test_df['Fare_Cut'] = pd.qcut(test_df['Fare'], 6)"
   ]
  },
  {
   "cell_type": "code",
   "execution_count": 24,
   "id": "3c743be1",
   "metadata": {
    "execution": {
     "iopub.execute_input": "2024-06-10T06:35:06.301340Z",
     "iopub.status.busy": "2024-06-10T06:35:06.300942Z",
     "iopub.status.idle": "2024-06-10T06:35:06.317574Z",
     "shell.execute_reply": "2024-06-10T06:35:06.316276Z"
    },
    "papermill": {
     "duration": 0.038952,
     "end_time": "2024-06-10T06:35:06.320593",
     "exception": false,
     "start_time": "2024-06-10T06:35:06.281641",
     "status": "completed"
    },
    "tags": []
   },
   "outputs": [
    {
     "name": "stderr",
     "output_type": "stream",
     "text": [
      "/tmp/ipykernel_18/3334708280.py:1: FutureWarning: The default of observed=False is deprecated and will be changed to True in a future version of pandas. Pass observed=False to retain current behavior or observed=True to adopt the future default and silence this warning.\n",
      "  train_df.groupby(['Fare_Cut'], as_index = False)['Survived'].mean()\n"
     ]
    },
    {
     "data": {
      "text/html": [
       "<div>\n",
       "<style scoped>\n",
       "    .dataframe tbody tr th:only-of-type {\n",
       "        vertical-align: middle;\n",
       "    }\n",
       "\n",
       "    .dataframe tbody tr th {\n",
       "        vertical-align: top;\n",
       "    }\n",
       "\n",
       "    .dataframe thead th {\n",
       "        text-align: right;\n",
       "    }\n",
       "</style>\n",
       "<table border=\"1\" class=\"dataframe\">\n",
       "  <thead>\n",
       "    <tr style=\"text-align: right;\">\n",
       "      <th></th>\n",
       "      <th>Fare_Cut</th>\n",
       "      <th>Survived</th>\n",
       "    </tr>\n",
       "  </thead>\n",
       "  <tbody>\n",
       "    <tr>\n",
       "      <th>0</th>\n",
       "      <td>(-0.001, 7.775]</td>\n",
       "      <td>0.205128</td>\n",
       "    </tr>\n",
       "    <tr>\n",
       "      <th>1</th>\n",
       "      <td>(7.775, 8.662]</td>\n",
       "      <td>0.190789</td>\n",
       "    </tr>\n",
       "    <tr>\n",
       "      <th>2</th>\n",
       "      <td>(8.662, 14.454]</td>\n",
       "      <td>0.366906</td>\n",
       "    </tr>\n",
       "    <tr>\n",
       "      <th>3</th>\n",
       "      <td>(14.454, 26.0]</td>\n",
       "      <td>0.436242</td>\n",
       "    </tr>\n",
       "    <tr>\n",
       "      <th>4</th>\n",
       "      <td>(26.0, 52.369]</td>\n",
       "      <td>0.417808</td>\n",
       "    </tr>\n",
       "    <tr>\n",
       "      <th>5</th>\n",
       "      <td>(52.369, 512.329]</td>\n",
       "      <td>0.697987</td>\n",
       "    </tr>\n",
       "  </tbody>\n",
       "</table>\n",
       "</div>"
      ],
      "text/plain": [
       "            Fare_Cut  Survived\n",
       "0    (-0.001, 7.775]  0.205128\n",
       "1     (7.775, 8.662]  0.190789\n",
       "2    (8.662, 14.454]  0.366906\n",
       "3     (14.454, 26.0]  0.436242\n",
       "4     (26.0, 52.369]  0.417808\n",
       "5  (52.369, 512.329]  0.697987"
      ]
     },
     "execution_count": 24,
     "metadata": {},
     "output_type": "execute_result"
    }
   ],
   "source": [
    "train_df.groupby(['Fare_Cut'], as_index = False)['Survived'].mean()"
   ]
  },
  {
   "cell_type": "code",
   "execution_count": 25,
   "id": "bd0a88bc",
   "metadata": {
    "execution": {
     "iopub.execute_input": "2024-06-10T06:35:06.358240Z",
     "iopub.status.busy": "2024-06-10T06:35:06.357862Z",
     "iopub.status.idle": "2024-06-10T06:35:06.380046Z",
     "shell.execute_reply": "2024-06-10T06:35:06.378734Z"
    },
    "papermill": {
     "duration": 0.043946,
     "end_time": "2024-06-10T06:35:06.382736",
     "exception": false,
     "start_time": "2024-06-10T06:35:06.338790",
     "status": "completed"
    },
    "tags": []
   },
   "outputs": [
    {
     "data": {
      "text/plain": [
       "1       71.2833\n",
       "3       53.1000\n",
       "27     263.0000\n",
       "31     146.5208\n",
       "34      82.1708\n",
       "         ...   \n",
       "849     89.1042\n",
       "856    164.8667\n",
       "863     69.5500\n",
       "871     52.5542\n",
       "879     83.1583\n",
       "Name: Fare, Length: 149, dtype: float64"
      ]
     },
     "execution_count": 25,
     "metadata": {},
     "output_type": "execute_result"
    }
   ],
   "source": [
    "train_df.loc[train_df['Fare'] <= 7.775, 'Fare'] = 0\n",
    "train_df.loc[(train_df['Fare'] > 7.775) & (train_df['Fare'] <= 8.662), 'Fare'] = 1\n",
    "train_df.loc[(train_df['Fare'] > 8.662) & (train_df['Fare'] <= 14.454), 'Fare'] = 2\n",
    "train_df.loc[(train_df['Fare'] > 14.454) & (train_df['Fare'] <= 26.0), 'Fare'] = 3\n",
    "train_df.loc[(train_df['Fare'] > 26.0) & (train_df['Fare'] <= 52.369), 'Fare'] = 4\n",
    "train_df.loc[(train_df['Fare'] > 52.369) & (train_df['Fare'] <= 52.369), 'Fare'] = 5\n",
    "train_df.loc[train_df['Fare'] > 52.369, 'Fare'] "
   ]
  },
  {
   "cell_type": "code",
   "execution_count": 26,
   "id": "0f05b706",
   "metadata": {
    "execution": {
     "iopub.execute_input": "2024-06-10T06:35:06.420439Z",
     "iopub.status.busy": "2024-06-10T06:35:06.420059Z",
     "iopub.status.idle": "2024-06-10T06:35:06.452672Z",
     "shell.execute_reply": "2024-06-10T06:35:06.451292Z"
    },
    "papermill": {
     "duration": 0.05448,
     "end_time": "2024-06-10T06:35:06.455322",
     "exception": false,
     "start_time": "2024-06-10T06:35:06.400842",
     "status": "completed"
    },
    "tags": []
   },
   "outputs": [
    {
     "data": {
      "text/plain": [
       "1       5.00\n",
       "3       5.00\n",
       "27      5.00\n",
       "31      5.00\n",
       "34     57.75\n",
       "       ...  \n",
       "380     5.00\n",
       "385    65.00\n",
       "390    93.50\n",
       "393     5.00\n",
       "412     5.00\n",
       "Name: Fare, Length: 73, dtype: float64"
      ]
     },
     "execution_count": 26,
     "metadata": {},
     "output_type": "execute_result"
    }
   ],
   "source": [
    "test_df.loc[train_df['Fare'] <= 7.775, 'Fare'] = 0\n",
    "test_df.loc[(train_df['Fare'] > 7.775) & (test_df['Fare'] <= 8.662), 'Fare'] = 1\n",
    "test_df.loc[(train_df['Fare'] > 8.662) & (test_df['Fare'] <= 14.454), 'Fare'] = 2\n",
    "test_df.loc[(train_df['Fare'] > 14.454) & (test_df['Fare'] <= 26.0), 'Fare'] = 3\n",
    "test_df.loc[(train_df['Fare'] > 26.0) & (test_df['Fare'] <= 52.369), 'Fare'] = 4\n",
    "test_df.loc[(train_df['Fare'] > 52.369) & (test_df['Fare'] <= 52.369), 'Fare'] = 5\n",
    "test_df.loc[train_df['Fare'] > 52.369, 'Fare'] "
   ]
  },
  {
   "cell_type": "code",
   "execution_count": 27,
   "id": "eb4d521b",
   "metadata": {
    "execution": {
     "iopub.execute_input": "2024-06-10T06:35:06.493459Z",
     "iopub.status.busy": "2024-06-10T06:35:06.493038Z",
     "iopub.status.idle": "2024-06-10T06:35:06.511314Z",
     "shell.execute_reply": "2024-06-10T06:35:06.510057Z"
    },
    "papermill": {
     "duration": 0.040781,
     "end_time": "2024-06-10T06:35:06.514138",
     "exception": false,
     "start_time": "2024-06-10T06:35:06.473357",
     "status": "completed"
    },
    "tags": []
   },
   "outputs": [],
   "source": [
    "train_df['Title'] = train_df['Name'].str.split(pat = ',', expand = True)[1].str.split(pat = '.', expand = True)[0].apply(lambda x: x.strip())\n",
    "test_df['Title'] = test_df['Name'].str.split(pat = ',', expand = True)[1].str.split(pat = '.', expand = True)[0].apply(lambda x: x.strip())"
   ]
  },
  {
   "cell_type": "code",
   "execution_count": 28,
   "id": "cc645bcf",
   "metadata": {
    "execution": {
     "iopub.execute_input": "2024-06-10T06:35:06.552481Z",
     "iopub.status.busy": "2024-06-10T06:35:06.552059Z",
     "iopub.status.idle": "2024-06-10T06:35:06.568862Z",
     "shell.execute_reply": "2024-06-10T06:35:06.567496Z"
    },
    "papermill": {
     "duration": 0.038825,
     "end_time": "2024-06-10T06:35:06.571471",
     "exception": false,
     "start_time": "2024-06-10T06:35:06.532646",
     "status": "completed"
    },
    "tags": []
   },
   "outputs": [
    {
     "data": {
      "text/html": [
       "<div>\n",
       "<style scoped>\n",
       "    .dataframe tbody tr th:only-of-type {\n",
       "        vertical-align: middle;\n",
       "    }\n",
       "\n",
       "    .dataframe tbody tr th {\n",
       "        vertical-align: top;\n",
       "    }\n",
       "\n",
       "    .dataframe thead th {\n",
       "        text-align: right;\n",
       "    }\n",
       "</style>\n",
       "<table border=\"1\" class=\"dataframe\">\n",
       "  <thead>\n",
       "    <tr style=\"text-align: right;\">\n",
       "      <th></th>\n",
       "      <th>Title</th>\n",
       "      <th>Survived</th>\n",
       "    </tr>\n",
       "  </thead>\n",
       "  <tbody>\n",
       "    <tr>\n",
       "      <th>0</th>\n",
       "      <td>Capt</td>\n",
       "      <td>0.000000</td>\n",
       "    </tr>\n",
       "    <tr>\n",
       "      <th>1</th>\n",
       "      <td>Col</td>\n",
       "      <td>0.500000</td>\n",
       "    </tr>\n",
       "    <tr>\n",
       "      <th>2</th>\n",
       "      <td>Don</td>\n",
       "      <td>0.000000</td>\n",
       "    </tr>\n",
       "    <tr>\n",
       "      <th>3</th>\n",
       "      <td>Dr</td>\n",
       "      <td>0.428571</td>\n",
       "    </tr>\n",
       "    <tr>\n",
       "      <th>4</th>\n",
       "      <td>Jonkheer</td>\n",
       "      <td>0.000000</td>\n",
       "    </tr>\n",
       "    <tr>\n",
       "      <th>5</th>\n",
       "      <td>Lady</td>\n",
       "      <td>1.000000</td>\n",
       "    </tr>\n",
       "    <tr>\n",
       "      <th>6</th>\n",
       "      <td>Major</td>\n",
       "      <td>0.500000</td>\n",
       "    </tr>\n",
       "    <tr>\n",
       "      <th>7</th>\n",
       "      <td>Master</td>\n",
       "      <td>0.575000</td>\n",
       "    </tr>\n",
       "    <tr>\n",
       "      <th>8</th>\n",
       "      <td>Miss</td>\n",
       "      <td>0.697802</td>\n",
       "    </tr>\n",
       "    <tr>\n",
       "      <th>9</th>\n",
       "      <td>Mlle</td>\n",
       "      <td>1.000000</td>\n",
       "    </tr>\n",
       "    <tr>\n",
       "      <th>10</th>\n",
       "      <td>Mme</td>\n",
       "      <td>1.000000</td>\n",
       "    </tr>\n",
       "    <tr>\n",
       "      <th>11</th>\n",
       "      <td>Mr</td>\n",
       "      <td>0.156673</td>\n",
       "    </tr>\n",
       "    <tr>\n",
       "      <th>12</th>\n",
       "      <td>Mrs</td>\n",
       "      <td>0.792000</td>\n",
       "    </tr>\n",
       "    <tr>\n",
       "      <th>13</th>\n",
       "      <td>Ms</td>\n",
       "      <td>1.000000</td>\n",
       "    </tr>\n",
       "    <tr>\n",
       "      <th>14</th>\n",
       "      <td>Rev</td>\n",
       "      <td>0.000000</td>\n",
       "    </tr>\n",
       "    <tr>\n",
       "      <th>15</th>\n",
       "      <td>Sir</td>\n",
       "      <td>1.000000</td>\n",
       "    </tr>\n",
       "    <tr>\n",
       "      <th>16</th>\n",
       "      <td>the Countess</td>\n",
       "      <td>1.000000</td>\n",
       "    </tr>\n",
       "  </tbody>\n",
       "</table>\n",
       "</div>"
      ],
      "text/plain": [
       "           Title  Survived\n",
       "0           Capt  0.000000\n",
       "1            Col  0.500000\n",
       "2            Don  0.000000\n",
       "3             Dr  0.428571\n",
       "4       Jonkheer  0.000000\n",
       "5           Lady  1.000000\n",
       "6          Major  0.500000\n",
       "7         Master  0.575000\n",
       "8           Miss  0.697802\n",
       "9           Mlle  1.000000\n",
       "10           Mme  1.000000\n",
       "11            Mr  0.156673\n",
       "12           Mrs  0.792000\n",
       "13            Ms  1.000000\n",
       "14           Rev  0.000000\n",
       "15           Sir  1.000000\n",
       "16  the Countess  1.000000"
      ]
     },
     "execution_count": 28,
     "metadata": {},
     "output_type": "execute_result"
    }
   ],
   "source": [
    "train_df.groupby(['Title'], as_index = False)['Survived'].mean()"
   ]
  },
  {
   "cell_type": "code",
   "execution_count": 29,
   "id": "d48377ad",
   "metadata": {
    "execution": {
     "iopub.execute_input": "2024-06-10T06:35:06.611287Z",
     "iopub.status.busy": "2024-06-10T06:35:06.610859Z",
     "iopub.status.idle": "2024-06-10T06:35:06.624341Z",
     "shell.execute_reply": "2024-06-10T06:35:06.623257Z"
    },
    "papermill": {
     "duration": 0.037041,
     "end_time": "2024-06-10T06:35:06.627209",
     "exception": false,
     "start_time": "2024-06-10T06:35:06.590168",
     "status": "completed"
    },
    "tags": []
   },
   "outputs": [],
   "source": [
    "train_df['Title'] = train_df['Title'].replace({\n",
    "    'Capt': 'Military',\n",
    "    'Col': 'Military',\n",
    "    'Major': 'Military',\n",
    "    'Jonkheer': 'Noble',\n",
    "    'the Countess': 'Noble',\n",
    "    'Don': 'Noble',\n",
    "    'Lady': 'Noble',\n",
    "    'Sir': 'Noble',\n",
    "    'Mlle': 'Noble',\n",
    "    'Ms': 'Noble',\n",
    "    'Mme': 'Noble'\n",
    "})\n",
    "\n",
    "test_df['Title'] = test_df['Title'].replace({\n",
    "    'Capt': 'Military',\n",
    "    'Col': 'Military',\n",
    "    'Major': 'Military',\n",
    "    'Jonkheer': 'Noble',\n",
    "    'the Countess': 'Noble',\n",
    "    'Don': 'Noble',\n",
    "    'Lady': 'Noble',\n",
    "    'Sir': 'Noble',\n",
    "    'Mlle': 'Noble',\n",
    "    'Ms': 'Noble',\n",
    "    'Mme': 'Noble'\n",
    "})"
   ]
  },
  {
   "cell_type": "code",
   "execution_count": 30,
   "id": "773045fc",
   "metadata": {
    "execution": {
     "iopub.execute_input": "2024-06-10T06:35:06.731689Z",
     "iopub.status.busy": "2024-06-10T06:35:06.731276Z",
     "iopub.status.idle": "2024-06-10T06:35:06.748426Z",
     "shell.execute_reply": "2024-06-10T06:35:06.747081Z"
    },
    "papermill": {
     "duration": 0.040522,
     "end_time": "2024-06-10T06:35:06.751252",
     "exception": false,
     "start_time": "2024-06-10T06:35:06.710730",
     "status": "completed"
    },
    "tags": []
   },
   "outputs": [
    {
     "data": {
      "text/html": [
       "<div>\n",
       "<style scoped>\n",
       "    .dataframe tbody tr th:only-of-type {\n",
       "        vertical-align: middle;\n",
       "    }\n",
       "\n",
       "    .dataframe tbody tr th {\n",
       "        vertical-align: top;\n",
       "    }\n",
       "\n",
       "    .dataframe thead th {\n",
       "        text-align: right;\n",
       "    }\n",
       "</style>\n",
       "<table border=\"1\" class=\"dataframe\">\n",
       "  <thead>\n",
       "    <tr style=\"text-align: right;\">\n",
       "      <th></th>\n",
       "      <th>Title</th>\n",
       "      <th>count</th>\n",
       "      <th>mean</th>\n",
       "    </tr>\n",
       "  </thead>\n",
       "  <tbody>\n",
       "    <tr>\n",
       "      <th>0</th>\n",
       "      <td>Dr</td>\n",
       "      <td>7</td>\n",
       "      <td>0.428571</td>\n",
       "    </tr>\n",
       "    <tr>\n",
       "      <th>1</th>\n",
       "      <td>Master</td>\n",
       "      <td>40</td>\n",
       "      <td>0.575000</td>\n",
       "    </tr>\n",
       "    <tr>\n",
       "      <th>2</th>\n",
       "      <td>Military</td>\n",
       "      <td>5</td>\n",
       "      <td>0.400000</td>\n",
       "    </tr>\n",
       "    <tr>\n",
       "      <th>3</th>\n",
       "      <td>Miss</td>\n",
       "      <td>182</td>\n",
       "      <td>0.697802</td>\n",
       "    </tr>\n",
       "    <tr>\n",
       "      <th>4</th>\n",
       "      <td>Mr</td>\n",
       "      <td>517</td>\n",
       "      <td>0.156673</td>\n",
       "    </tr>\n",
       "    <tr>\n",
       "      <th>5</th>\n",
       "      <td>Mrs</td>\n",
       "      <td>125</td>\n",
       "      <td>0.792000</td>\n",
       "    </tr>\n",
       "    <tr>\n",
       "      <th>6</th>\n",
       "      <td>Noble</td>\n",
       "      <td>9</td>\n",
       "      <td>0.777778</td>\n",
       "    </tr>\n",
       "    <tr>\n",
       "      <th>7</th>\n",
       "      <td>Rev</td>\n",
       "      <td>6</td>\n",
       "      <td>0.000000</td>\n",
       "    </tr>\n",
       "  </tbody>\n",
       "</table>\n",
       "</div>"
      ],
      "text/plain": [
       "      Title  count      mean\n",
       "0        Dr      7  0.428571\n",
       "1    Master     40  0.575000\n",
       "2  Military      5  0.400000\n",
       "3      Miss    182  0.697802\n",
       "4        Mr    517  0.156673\n",
       "5       Mrs    125  0.792000\n",
       "6     Noble      9  0.777778\n",
       "7       Rev      6  0.000000"
      ]
     },
     "execution_count": 30,
     "metadata": {},
     "output_type": "execute_result"
    }
   ],
   "source": [
    "train_df.groupby(['Title'], as_index = False)['Survived'].agg(['count','mean'])"
   ]
  },
  {
   "cell_type": "code",
   "execution_count": 31,
   "id": "1a29f5a3",
   "metadata": {
    "execution": {
     "iopub.execute_input": "2024-06-10T06:35:06.793211Z",
     "iopub.status.busy": "2024-06-10T06:35:06.792142Z",
     "iopub.status.idle": "2024-06-10T06:35:06.802918Z",
     "shell.execute_reply": "2024-06-10T06:35:06.801401Z"
    },
    "papermill": {
     "duration": 0.034793,
     "end_time": "2024-06-10T06:35:06.805762",
     "exception": false,
     "start_time": "2024-06-10T06:35:06.770969",
     "status": "completed"
    },
    "tags": []
   },
   "outputs": [],
   "source": [
    "train_df['Name_Length'] = train_df['Name'].apply(lambda x: len(x))\n",
    "test_df['Name_Length'] = test_df['Name'].apply(lambda x: len(x))"
   ]
  },
  {
   "cell_type": "code",
   "execution_count": 32,
   "id": "b253d7bf",
   "metadata": {
    "execution": {
     "iopub.execute_input": "2024-06-10T06:35:06.847662Z",
     "iopub.status.busy": "2024-06-10T06:35:06.847115Z",
     "iopub.status.idle": "2024-06-10T06:35:07.282718Z",
     "shell.execute_reply": "2024-06-10T06:35:07.281245Z"
    },
    "papermill": {
     "duration": 0.460343,
     "end_time": "2024-06-10T06:35:07.286070",
     "exception": false,
     "start_time": "2024-06-10T06:35:06.825727",
     "status": "completed"
    },
    "tags": []
   },
   "outputs": [
    {
     "name": "stderr",
     "output_type": "stream",
     "text": [
      "/opt/conda/lib/python3.10/site-packages/seaborn/_oldcore.py:1119: FutureWarning: use_inf_as_na option is deprecated and will be removed in a future version. Convert inf values to NaN before operating instead.\n",
      "  with pd.option_context('mode.use_inf_as_na', True):\n",
      "/opt/conda/lib/python3.10/site-packages/seaborn/_oldcore.py:1119: FutureWarning: use_inf_as_na option is deprecated and will be removed in a future version. Convert inf values to NaN before operating instead.\n",
      "  with pd.option_context('mode.use_inf_as_na', True):\n"
     ]
    },
    {
     "data": {
      "image/png": "[encoded data removed]",
      "text/plain": [
       "<Figure size 640x480 with 1 Axes>"
      ]
     },
     "metadata": {},
     "output_type": "display_data"
    }
   ],
   "source": [
    "g = sns.kdeplot(train_df['Name_Length'][(train_df['Survived'] == 0) & (train_df['Name_Length'].notnull())], color = 'Red', fill = True)\n",
    "g = sns.kdeplot(train_df['Name_Length'][(train_df['Survived'] == 1) & (train_df['Name_Length'].notnull())], ax = g, color = 'Blue', fill = True)\n",
    "\n",
    "g.set_xlabel('Name_Length')\n",
    "g.set_ylabel('Frequency')\n",
    "g = g.legend(['Not Survived', 'Survived'])\n"
   ]
  },
  {
   "cell_type": "code",
   "execution_count": 33,
   "id": "3ce8bfe4",
   "metadata": {
    "execution": {
     "iopub.execute_input": "2024-06-10T06:35:07.329825Z",
     "iopub.status.busy": "2024-06-10T06:35:07.329226Z",
     "iopub.status.idle": "2024-06-10T06:35:07.346128Z",
     "shell.execute_reply": "2024-06-10T06:35:07.344851Z"
    },
    "papermill": {
     "duration": 0.042521,
     "end_time": "2024-06-10T06:35:07.349614",
     "exception": false,
     "start_time": "2024-06-10T06:35:07.307093",
     "status": "completed"
    },
    "tags": []
   },
   "outputs": [],
   "source": [
    "train_df['Name_LengthGB'] = pd.qcut(train_df['Name_Length'], 8)\n",
    "test_df['Name_LengthGB'] = pd.qcut(test_df['Name_Length'], 8)"
   ]
  },
  {
   "cell_type": "code",
   "execution_count": 34,
   "id": "ef9746ff",
   "metadata": {
    "execution": {
     "iopub.execute_input": "2024-06-10T06:35:07.395003Z",
     "iopub.status.busy": "2024-06-10T06:35:07.393703Z",
     "iopub.status.idle": "2024-06-10T06:35:07.412891Z",
     "shell.execute_reply": "2024-06-10T06:35:07.411380Z"
    },
    "papermill": {
     "duration": 0.045393,
     "end_time": "2024-06-10T06:35:07.415524",
     "exception": false,
     "start_time": "2024-06-10T06:35:07.370131",
     "status": "completed"
    },
    "tags": []
   },
   "outputs": [
    {
     "name": "stderr",
     "output_type": "stream",
     "text": [
      "/tmp/ipykernel_18/3439475250.py:1: FutureWarning: The default of observed=False is deprecated and will be changed to True in a future version of pandas. Pass observed=False to retain current behavior or observed=True to adopt the future default and silence this warning.\n",
      "  train_df.groupby(['Name_LengthGB'], as_index = False)['Survived'].mean()\n"
     ]
    },
    {
     "data": {
      "text/html": [
       "<div>\n",
       "<style scoped>\n",
       "    .dataframe tbody tr th:only-of-type {\n",
       "        vertical-align: middle;\n",
       "    }\n",
       "\n",
       "    .dataframe tbody tr th {\n",
       "        vertical-align: top;\n",
       "    }\n",
       "\n",
       "    .dataframe thead th {\n",
       "        text-align: right;\n",
       "    }\n",
       "</style>\n",
       "<table border=\"1\" class=\"dataframe\">\n",
       "  <thead>\n",
       "    <tr style=\"text-align: right;\">\n",
       "      <th></th>\n",
       "      <th>Name_LengthGB</th>\n",
       "      <th>Survived</th>\n",
       "    </tr>\n",
       "  </thead>\n",
       "  <tbody>\n",
       "    <tr>\n",
       "      <th>0</th>\n",
       "      <td>(11.999, 18.0]</td>\n",
       "      <td>0.214286</td>\n",
       "    </tr>\n",
       "    <tr>\n",
       "      <th>1</th>\n",
       "      <td>(18.0, 20.0]</td>\n",
       "      <td>0.252427</td>\n",
       "    </tr>\n",
       "    <tr>\n",
       "      <th>2</th>\n",
       "      <td>(20.0, 23.0]</td>\n",
       "      <td>0.307692</td>\n",
       "    </tr>\n",
       "    <tr>\n",
       "      <th>3</th>\n",
       "      <td>(23.0, 25.0]</td>\n",
       "      <td>0.346939</td>\n",
       "    </tr>\n",
       "    <tr>\n",
       "      <th>4</th>\n",
       "      <td>(25.0, 27.25]</td>\n",
       "      <td>0.292929</td>\n",
       "    </tr>\n",
       "    <tr>\n",
       "      <th>5</th>\n",
       "      <td>(27.25, 30.0]</td>\n",
       "      <td>0.428571</td>\n",
       "    </tr>\n",
       "    <tr>\n",
       "      <th>6</th>\n",
       "      <td>(30.0, 38.0]</td>\n",
       "      <td>0.517241</td>\n",
       "    </tr>\n",
       "    <tr>\n",
       "      <th>7</th>\n",
       "      <td>(38.0, 82.0]</td>\n",
       "      <td>0.745283</td>\n",
       "    </tr>\n",
       "  </tbody>\n",
       "</table>\n",
       "</div>"
      ],
      "text/plain": [
       "    Name_LengthGB  Survived\n",
       "0  (11.999, 18.0]  0.214286\n",
       "1    (18.0, 20.0]  0.252427\n",
       "2    (20.0, 23.0]  0.307692\n",
       "3    (23.0, 25.0]  0.346939\n",
       "4   (25.0, 27.25]  0.292929\n",
       "5   (27.25, 30.0]  0.428571\n",
       "6    (30.0, 38.0]  0.517241\n",
       "7    (38.0, 82.0]  0.745283"
      ]
     },
     "execution_count": 34,
     "metadata": {},
     "output_type": "execute_result"
    }
   ],
   "source": [
    "train_df.groupby(['Name_LengthGB'], as_index = False)['Survived'].mean()"
   ]
  },
  {
   "cell_type": "code",
   "execution_count": 35,
   "id": "13824ea9",
   "metadata": {
    "execution": {
     "iopub.execute_input": "2024-06-10T06:35:07.460821Z",
     "iopub.status.busy": "2024-06-10T06:35:07.459680Z",
     "iopub.status.idle": "2024-06-10T06:35:07.485868Z",
     "shell.execute_reply": "2024-06-10T06:35:07.484602Z"
    },
    "papermill": {
     "duration": 0.052329,
     "end_time": "2024-06-10T06:35:07.488728",
     "exception": false,
     "start_time": "2024-06-10T06:35:07.436399",
     "status": "completed"
    },
    "tags": []
   },
   "outputs": [
    {
     "data": {
      "text/plain": [
       "Series([], Name: Name_Size, dtype: float64)"
      ]
     },
     "execution_count": 35,
     "metadata": {},
     "output_type": "execute_result"
    }
   ],
   "source": [
    "train_df.loc[train_df['Name_Length'] <= 18.0, 'Name_Size'] = 0\n",
    "train_df.loc[(train_df['Name_Length'] > 18.0) & (train_df['Name_Length'] <= 20.0), 'Name_Size'] = 1\n",
    "train_df.loc[(train_df['Name_Length'] > 20.0) & (train_df['Name_Length'] <= 23.0), 'Name_Size'] = 2\n",
    "train_df.loc[(train_df['Name_Length'] > 23.0) & (train_df['Name_Length'] <= 25.0), 'Name_Size'] = 3\n",
    "train_df.loc[(train_df['Name_Length'] > 25.0) & (train_df['Name_Length'] <= 27.25), 'Name_Size'] = 4\n",
    "train_df.loc[(train_df['Name_Length'] > 27.25) & (train_df['Name_Length'] <= 30.0), 'Name_Size'] = 5\n",
    "train_df.loc[(train_df['Name_Length'] > 30.0) & (train_df['Name_Length'] <= 38.0), 'Name_Size'] = 6\n",
    "train_df.loc[(train_df['Name_Length'] > 38.0) & (train_df['Name_Length'] <= 82.0), 'Name_Size'] = 7\n",
    "train_df.loc[train_df['Name_Length'] > 82.0, 'Name_Size'] "
   ]
  },
  {
   "cell_type": "code",
   "execution_count": 36,
   "id": "5c0ac2b6",
   "metadata": {
    "execution": {
     "iopub.execute_input": "2024-06-10T06:35:07.533514Z",
     "iopub.status.busy": "2024-06-10T06:35:07.532604Z",
     "iopub.status.idle": "2024-06-10T06:35:07.559219Z",
     "shell.execute_reply": "2024-06-10T06:35:07.557860Z"
    },
    "papermill": {
     "duration": 0.052709,
     "end_time": "2024-06-10T06:35:07.562238",
     "exception": false,
     "start_time": "2024-06-10T06:35:07.509529",
     "status": "completed"
    },
    "tags": []
   },
   "outputs": [
    {
     "data": {
      "text/plain": [
       "Series([], Name: Name_Size, dtype: float64)"
      ]
     },
     "execution_count": 36,
     "metadata": {},
     "output_type": "execute_result"
    }
   ],
   "source": [
    "test_df.loc[test_df['Name_Length'] <= 18.0, 'Name_Size'] = 0\n",
    "test_df.loc[(test_df['Name_Length'] > 18.0) & (test_df['Name_Length'] <= 20.0), 'Name_Size'] = 1\n",
    "test_df.loc[(test_df['Name_Length'] > 20.0) & (test_df['Name_Length'] <= 23.0), 'Name_Size'] = 2\n",
    "test_df.loc[(test_df['Name_Length'] > 23.0) & (test_df['Name_Length'] <= 25.0), 'Name_Size'] = 3\n",
    "test_df.loc[(test_df['Name_Length'] > 25.0) & (test_df['Name_Length'] <= 27.25), 'Name_Size'] = 4\n",
    "test_df.loc[(test_df['Name_Length'] > 27.25) & (test_df['Name_Length'] <= 30.0), 'Name_Size'] = 5\n",
    "test_df.loc[(test_df['Name_Length'] > 30.0) & (test_df['Name_Length'] <= 38.0), 'Name_Size'] = 6\n",
    "test_df.loc[(test_df['Name_Length'] > 38.0) & (test_df['Name_Length'] <= 82.0), 'Name_Size'] = 7\n",
    "test_df.loc[test_df['Name_Length'] > 82.0, 'Name_Size'] "
   ]
  },
  {
   "cell_type": "code",
   "execution_count": 37,
   "id": "a9acd4a0",
   "metadata": {
    "collapsed": true,
    "execution": {
     "iopub.execute_input": "2024-06-10T06:35:07.608475Z",
     "iopub.status.busy": "2024-06-10T06:35:07.607991Z",
     "iopub.status.idle": "2024-06-10T06:35:07.640468Z",
     "shell.execute_reply": "2024-06-10T06:35:07.638584Z"
    },
    "jupyter": {
     "outputs_hidden": true
    },
    "papermill": {
     "duration": 0.059829,
     "end_time": "2024-06-10T06:35:07.644013",
     "exception": false,
     "start_time": "2024-06-10T06:35:07.584184",
     "status": "completed"
    },
    "tags": []
   },
   "outputs": [
    {
     "data": {
      "text/html": [
       "<div>\n",
       "<style scoped>\n",
       "    .dataframe tbody tr th:only-of-type {\n",
       "        vertical-align: middle;\n",
       "    }\n",
       "\n",
       "    .dataframe tbody tr th {\n",
       "        vertical-align: top;\n",
       "    }\n",
       "\n",
       "    .dataframe thead th {\n",
       "        text-align: right;\n",
       "    }\n",
       "</style>\n",
       "<table border=\"1\" class=\"dataframe\">\n",
       "  <thead>\n",
       "    <tr style=\"text-align: right;\">\n",
       "      <th></th>\n",
       "      <th>PassengerId</th>\n",
       "      <th>Survived</th>\n",
       "      <th>Pclass</th>\n",
       "      <th>Name</th>\n",
       "      <th>Sex</th>\n",
       "      <th>Age</th>\n",
       "      <th>SibSp</th>\n",
       "      <th>Parch</th>\n",
       "      <th>Ticket</th>\n",
       "      <th>Fare</th>\n",
       "      <th>Cabin</th>\n",
       "      <th>Embarked</th>\n",
       "      <th>FamilySize</th>\n",
       "      <th>Family_Size_Grouped</th>\n",
       "      <th>Age_Cut</th>\n",
       "      <th>Fare_Cut</th>\n",
       "      <th>Title</th>\n",
       "      <th>Name_Length</th>\n",
       "      <th>Name_LengthGB</th>\n",
       "      <th>Name_Size</th>\n",
       "    </tr>\n",
       "  </thead>\n",
       "  <tbody>\n",
       "    <tr>\n",
       "      <th>0</th>\n",
       "      <td>1</td>\n",
       "      <td>0</td>\n",
       "      <td>3</td>\n",
       "      <td>Braund, Mr. Owen Harris</td>\n",
       "      <td>male</td>\n",
       "      <td>2.0</td>\n",
       "      <td>1</td>\n",
       "      <td>0</td>\n",
       "      <td>A/5 21171</td>\n",
       "      <td>0.0000</td>\n",
       "      <td>NaN</td>\n",
       "      <td>S</td>\n",
       "      <td>2</td>\n",
       "      <td>Small</td>\n",
       "      <td>(20.125, 24.0]</td>\n",
       "      <td>(-0.001, 7.775]</td>\n",
       "      <td>Mr</td>\n",
       "      <td>23</td>\n",
       "      <td>(20.0, 23.0]</td>\n",
       "      <td>2.0</td>\n",
       "    </tr>\n",
       "    <tr>\n",
       "      <th>1</th>\n",
       "      <td>2</td>\n",
       "      <td>1</td>\n",
       "      <td>1</td>\n",
       "      <td>Cumings, Mrs. John Bradley (Florence Briggs Th...</td>\n",
       "      <td>female</td>\n",
       "      <td>5.0</td>\n",
       "      <td>1</td>\n",
       "      <td>0</td>\n",
       "      <td>PC 17599</td>\n",
       "      <td>71.2833</td>\n",
       "      <td>C85</td>\n",
       "      <td>C</td>\n",
       "      <td>2</td>\n",
       "      <td>Small</td>\n",
       "      <td>(32.312, 38.0]</td>\n",
       "      <td>(52.369, 512.329]</td>\n",
       "      <td>Mrs</td>\n",
       "      <td>51</td>\n",
       "      <td>(38.0, 82.0]</td>\n",
       "      <td>7.0</td>\n",
       "    </tr>\n",
       "    <tr>\n",
       "      <th>2</th>\n",
       "      <td>3</td>\n",
       "      <td>1</td>\n",
       "      <td>3</td>\n",
       "      <td>Heikkinen, Miss. Laina</td>\n",
       "      <td>female</td>\n",
       "      <td>3.0</td>\n",
       "      <td>0</td>\n",
       "      <td>0</td>\n",
       "      <td>STON/O2. 3101282</td>\n",
       "      <td>1.0000</td>\n",
       "      <td>NaN</td>\n",
       "      <td>S</td>\n",
       "      <td>1</td>\n",
       "      <td>Alone</td>\n",
       "      <td>(24.0, 28.0]</td>\n",
       "      <td>(7.775, 8.662]</td>\n",
       "      <td>Miss</td>\n",
       "      <td>22</td>\n",
       "      <td>(20.0, 23.0]</td>\n",
       "      <td>2.0</td>\n",
       "    </tr>\n",
       "    <tr>\n",
       "      <th>3</th>\n",
       "      <td>4</td>\n",
       "      <td>1</td>\n",
       "      <td>1</td>\n",
       "      <td>Futrelle, Mrs. Jacques Heath (Lily May Peel)</td>\n",
       "      <td>female</td>\n",
       "      <td>5.0</td>\n",
       "      <td>1</td>\n",
       "      <td>0</td>\n",
       "      <td>113803</td>\n",
       "      <td>53.1000</td>\n",
       "      <td>C123</td>\n",
       "      <td>S</td>\n",
       "      <td>2</td>\n",
       "      <td>Small</td>\n",
       "      <td>(32.312, 38.0]</td>\n",
       "      <td>(52.369, 512.329]</td>\n",
       "      <td>Mrs</td>\n",
       "      <td>44</td>\n",
       "      <td>(38.0, 82.0]</td>\n",
       "      <td>7.0</td>\n",
       "    </tr>\n",
       "    <tr>\n",
       "      <th>4</th>\n",
       "      <td>5</td>\n",
       "      <td>0</td>\n",
       "      <td>3</td>\n",
       "      <td>Allen, Mr. William Henry</td>\n",
       "      <td>male</td>\n",
       "      <td>5.0</td>\n",
       "      <td>0</td>\n",
       "      <td>0</td>\n",
       "      <td>373450</td>\n",
       "      <td>1.0000</td>\n",
       "      <td>NaN</td>\n",
       "      <td>S</td>\n",
       "      <td>1</td>\n",
       "      <td>Alone</td>\n",
       "      <td>(32.312, 38.0]</td>\n",
       "      <td>(7.775, 8.662]</td>\n",
       "      <td>Mr</td>\n",
       "      <td>24</td>\n",
       "      <td>(23.0, 25.0]</td>\n",
       "      <td>3.0</td>\n",
       "    </tr>\n",
       "  </tbody>\n",
       "</table>\n",
       "</div>"
      ],
      "text/plain": [
       "   PassengerId  Survived  Pclass  \\\n",
       "0            1         0       3   \n",
       "1            2         1       1   \n",
       "2            3         1       3   \n",
       "3            4         1       1   \n",
       "4            5         0       3   \n",
       "\n",
       "                                                Name     Sex  Age  SibSp  \\\n",
       "0                            Braund, Mr. Owen Harris    male  2.0      1   \n",
       "1  Cumings, Mrs. John Bradley (Florence Briggs Th...  female  5.0      1   \n",
       "2                             Heikkinen, Miss. Laina  female  3.0      0   \n",
       "3       Futrelle, Mrs. Jacques Heath (Lily May Peel)  female  5.0      1   \n",
       "4                           Allen, Mr. William Henry    male  5.0      0   \n",
       "\n",
       "   Parch            Ticket     Fare Cabin Embarked  FamilySize  \\\n",
       "0      0         A/5 21171   0.0000   NaN        S           2   \n",
       "1      0          PC 17599  71.2833   C85        C           2   \n",
       "2      0  STON/O2. 3101282   1.0000   NaN        S           1   \n",
       "3      0            113803  53.1000  C123        S           2   \n",
       "4      0            373450   1.0000   NaN        S           1   \n",
       "\n",
       "  Family_Size_Grouped         Age_Cut           Fare_Cut Title  Name_Length  \\\n",
       "0               Small  (20.125, 24.0]    (-0.001, 7.775]    Mr           23   \n",
       "1               Small  (32.312, 38.0]  (52.369, 512.329]   Mrs           51   \n",
       "2               Alone    (24.0, 28.0]     (7.775, 8.662]  Miss           22   \n",
       "3               Small  (32.312, 38.0]  (52.369, 512.329]   Mrs           44   \n",
       "4               Alone  (32.312, 38.0]     (7.775, 8.662]    Mr           24   \n",
       "\n",
       "  Name_LengthGB  Name_Size  \n",
       "0  (20.0, 23.0]        2.0  \n",
       "1  (38.0, 82.0]        7.0  \n",
       "2  (20.0, 23.0]        2.0  \n",
       "3  (38.0, 82.0]        7.0  \n",
       "4  (23.0, 25.0]        3.0  "
      ]
     },
     "execution_count": 37,
     "metadata": {},
     "output_type": "execute_result"
    }
   ],
   "source": [
    "train_df.head()"
   ]
  },
  {
   "cell_type": "code",
   "execution_count": 38,
   "id": "f43c38c0",
   "metadata": {
    "execution": {
     "iopub.execute_input": "2024-06-10T06:35:07.689165Z",
     "iopub.status.busy": "2024-06-10T06:35:07.688679Z",
     "iopub.status.idle": "2024-06-10T06:35:07.699647Z",
     "shell.execute_reply": "2024-06-10T06:35:07.698369Z"
    },
    "papermill": {
     "duration": 0.036914,
     "end_time": "2024-06-10T06:35:07.702641",
     "exception": false,
     "start_time": "2024-06-10T06:35:07.665727",
     "status": "completed"
    },
    "tags": []
   },
   "outputs": [
    {
     "data": {
      "text/plain": [
       "0             A/5 21171\n",
       "1              PC 17599\n",
       "2      STON/O2. 3101282\n",
       "3                113803\n",
       "4                373450\n",
       "             ...       \n",
       "886              211536\n",
       "887              112053\n",
       "888          W./C. 6607\n",
       "889              111369\n",
       "890              370376\n",
       "Name: Ticket, Length: 891, dtype: object"
      ]
     },
     "execution_count": 38,
     "metadata": {},
     "output_type": "execute_result"
    }
   ],
   "source": [
    "train_df['Ticket']"
   ]
  }
 ],
 "metadata": {
  "kaggle": {
   "accelerator": "none",
   "dataSources": [
    {
     "datasetId": 1818188,
     "sourceId": 2965537,
     "sourceType": "datasetVersion"
    },
    {
     "datasetId": 5179230,
     "sourceId": 8647155,
     "sourceType": "datasetVersion"
    }
   ],
   "dockerImageVersionId": 30732,
   "isGpuEnabled": false,
   "isInternetEnabled": false,
   "language": "python",
   "sourceType": "notebook"
  },
  "kernelspec": {
   "display_name": "Python 3",
   "language": "python",
   "name": "python3"
  },
  "language_info": {
   "codemirror_mode": {
    "name": "ipython",
    "version": 3
   },
   "file_extension": ".py",
   "mimetype": "text/x-python",
   "name": "python",
   "nbconvert_exporter": "python",
   "pygments_lexer": "ipython3",
   "version": "3.10.13"
  },
  "papermill": {
   "default_parameters": {},
   "duration": 12.828162,
   "end_time": "2024-06-10T06:35:08.750405",
   "environment_variables": {},
   "exception": null,
   "input_path": "__notebook__.ipynb",
   "output_path": "__notebook__.ipynb",
   "parameters": {},
   "start_time": "2024-06-10T06:34:55.922243",
   "version": "2.5.0"
  }
 },
 "nbformat": 4,
 "nbformat_minor": 5
}
